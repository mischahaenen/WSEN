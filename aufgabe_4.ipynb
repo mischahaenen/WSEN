{
 "cells": [
  {
   "cell_type": "code",
   "execution_count": 3,
   "metadata": {},
   "outputs": [
    {
     "name": "stdout",
     "output_type": "stream",
     "text": [
      "{('Bart', 'Lisa'), ('Lisa', 'Maggie'), ('Selma', 'Marge'), ('Homer', 'Herb'), ('Marge', 'Patty'), ('Lisa', 'Bart'), ('Maggie', 'Lisa'), ('Maggie', 'Bart'), ('Marge', 'Selma'), ('Selma', 'Patty'), ('Patty', 'Selma'), ('Bart', 'Maggie'), ('Patty', 'Marge'), ('Herb', 'Homer')}\n"
     ]
    }
   ],
   "source": [
    "# 4.1 a) SinglingOf\n",
    "stammbaum = {\"Abraham\", \"Mona\", \"Clancy\", \"Jackie\", \"Herb\", \"Homer\",\n",
    "\"Marge\", \"Patty\", \"Selma\", \"Bart\", \"Lisa\", \"Maggie\", \"Ling\"}\n",
    "\n",
    "siblings = [{\"Herb\", \"Homer\"}, {\"Marge\", \"Patty\", \"Selma\"}, {\"Bart\", \"Lisa\", \"Maggie\"}, {\"Ling\"}]\n",
    "sibling_relation = set(());\n",
    "for sibling in siblings:\n",
    "    for s1 in sibling:\n",
    "        for s2 in sibling:\n",
    "            if s1 is not s2:\n",
    "                sibling_relation.add((s1, s2))\n",
    "\n",
    "print(sibling_relation)"
   ]
  },
  {
   "cell_type": "code",
   "execution_count": 5,
   "metadata": {},
   "outputs": [
    {
     "ename": "TypeError",
     "evalue": "'str' object does not support item assignment",
     "output_type": "error",
     "traceback": [
      "\u001b[0;31m---------------------------------------------------------------------------\u001b[0m",
      "\u001b[0;31mTypeError\u001b[0m                                 Traceback (most recent call last)",
      "\u001b[0;32m<ipython-input-5-e56877743a2b>\u001b[0m in \u001b[0;36m<module>\u001b[0;34m\u001b[0m\n\u001b[1;32m      1\u001b[0m \u001b[0;31m# 4.1 a) GrandchildOf\u001b[0m\u001b[0;34m\u001b[0m\u001b[0;34m\u001b[0m\u001b[0;34m\u001b[0m\u001b[0m\n\u001b[1;32m      2\u001b[0m \u001b[0mtname\u001b[0m \u001b[0;34m=\u001b[0m \u001b[0;34m\"HALLP\"\u001b[0m\u001b[0;34m\u001b[0m\u001b[0;34m\u001b[0m\u001b[0m\n\u001b[0;32m----> 3\u001b[0;31m \u001b[0mtname\u001b[0m\u001b[0;34m[\u001b[0m\u001b[0;36m2\u001b[0m\u001b[0;34m]\u001b[0m \u001b[0;34m=\u001b[0m \u001b[0;34m\"e\"\u001b[0m\u001b[0;34m\u001b[0m\u001b[0;34m\u001b[0m\u001b[0m\n\u001b[0m",
      "\u001b[0;31mTypeError\u001b[0m: 'str' object does not support item assignment"
     ]
    }
   ],
   "source": [
    "# 4.1 a) GrandchildOf\n",
    "tname = \"HALLP\"\n",
    "tname[2] = \"e\""
   ]
  }
 ],
 "metadata": {
  "interpreter": {
   "hash": "941b10ec9e005cfe76c369ab664eba551130d21882d889bdf3a531e2cb6af61f"
  },
  "kernelspec": {
   "display_name": "Python 3.8.8 64-bit ('base': conda)",
   "name": "python3"
  },
  "language_info": {
   "codemirror_mode": {
    "name": "ipython",
    "version": 3
   },
   "file_extension": ".py",
   "mimetype": "text/x-python",
   "name": "python",
   "nbconvert_exporter": "python",
   "pygments_lexer": "ipython3",
   "version": "3.8.8"
  },
  "orig_nbformat": 4
 },
 "nbformat": 4,
 "nbformat_minor": 2
}
