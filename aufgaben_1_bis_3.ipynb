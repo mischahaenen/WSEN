{
 "cells": [
  {
   "cell_type": "code",
   "execution_count": 1,
   "metadata": {},
   "outputs": [
    {
     "name": "stdout",
     "output_type": "stream",
     "text": [
      "First Number: 1\n",
      "Second Number:2\n",
      "Dein Ergebniss: 3\n"
     ]
    }
   ],
   "source": [
    "#Simple calculator\n",
    "first_number = input('First Number: ')\n",
    "second_number = input('Second Number:')\n",
    "print('Dein Ergebniss:', int(first_number) + int(second_number) )"
   ]
  },
  {
   "cell_type": "code",
   "execution_count": 18,
   "metadata": {
    "scrolled": true
   },
   "outputs": [
    {
     "name": "stdout",
     "output_type": "stream",
     "text": [
      "Zahl 1\n",
      "Fav number 1\n"
     ]
    }
   ],
   "source": [
    "x = 1\n",
    "x_str = '1';\n",
    "print('Zahl', x)\n",
    "print('Fav number', 1)\n",
    "   "
   ]
  },
  {
   "cell_type": "code",
   "execution_count": 4,
   "metadata": {},
   "outputs": [
    {
     "name": "stdout",
     "output_type": "stream",
     "text": [
      "first number: 2\n",
      "second number: 2\n",
      "same\n"
     ]
    }
   ],
   "source": [
    "x = int(input('first number: '))\n",
    "y = int(input('second number: '))\n",
    "\n",
    "if x == y:\n",
    "    print('same')\n",
    "if x > y:\n",
    "    print('x is greater')\n",
    "if y > x:\n",
    "    print('y is greater')"
   ]
  },
  {
   "cell_type": "code",
   "execution_count": 5,
   "metadata": {},
   "outputs": [
    {
     "name": "stdout",
     "output_type": "stream",
     "text": [
      "Name: gahs\n",
      "Gender: (m/w)W\n",
      "Hallo Frau gahs\n"
     ]
    }
   ],
   "source": [
    "name = input('Name: ')\n",
    "gender = input('Gender: (m/w)')\n",
    "\n",
    "if gender == 'w' or gender == 'W':\n",
    "    print('Hallo Frau ' + name)\n",
    "elif gender == 'm' or gender == 'M':\n",
    "    print('Hallo Herr ' + name)\n",
    "else: \n",
    "    print('Hallo xier ' + name)"
   ]
  },
  {
   "cell_type": "code",
   "execution_count": 19,
   "metadata": {},
   "outputs": [
    {
     "name": "stdout",
     "output_type": "stream",
     "text": [
      "Wurf:  1\n"
     ]
    }
   ],
   "source": [
    "import random;\n",
    "\n",
    "def dice():\n",
    "    return random.randint(1, 6)\n",
    "\n",
    "print('Wurf: ', dice())"
   ]
  },
  {
   "cell_type": "code",
   "execution_count": 52,
   "metadata": {},
   "outputs": [
    {
     "data": {
      "text/plain": [
       "True"
      ]
     },
     "execution_count": 52,
     "metadata": {},
     "output_type": "execute_result"
    }
   ],
   "source": [
    "'a' in {'a', 'b', 'c'}\n",
    "3 in {1, 2,3}\n",
    "10 not in {1, 2, 3}\n",
    "1 in {}\n",
    "{1,2,3,4}.issubset({1,2,3})\n",
    "{1,2} == {2,1}\n",
    "t = [[1, 2]]\n",
    "x = set(map(frozenset, t))\n",
    "{1,2} in x"
   ]
  },
  {
   "cell_type": "code",
   "execution_count": 56,
   "metadata": {},
   "outputs": [
    {
     "name": "stdout",
     "output_type": "stream",
     "text": [
      "{2, 4, 6, 8, 10}\n"
     ]
    },
    {
     "data": {
      "text/plain": [
       "'HELLO'"
      ]
     },
     "execution_count": 56,
     "metadata": {},
     "output_type": "execute_result"
    }
   ],
   "source": [
    "myList = set({})\n",
    "for x in [1,2,3,4,5,6,7,8,9,10]:\n",
    "    if x%2==0:\n",
    "        myList.add(x)\n",
    "\n",
    "print(myList)\n",
    "\"jj\".replace"
   ]
  },
  {
   "cell_type": "code",
   "execution_count": 59,
   "metadata": {},
   "outputs": [
    {
     "name": "stdout",
     "output_type": "stream",
     "text": [
      "True\n"
     ]
    }
   ],
   "source": [
    "X = {1,2,3,4,5,6}\n",
    "Y = {5,6,7,8}\n",
    "print(X.union(Y) == Y.union(X))"
   ]
  },
  {
   "cell_type": "code",
   "execution_count": 72,
   "metadata": {},
   "outputs": [
    {
     "name": "stdout",
     "output_type": "stream",
     "text": [
      "1\n",
      "2\n",
      "3\n",
      "4\n",
      "5\n",
      "6\n"
     ]
    }
   ],
   "source": [
    "x = 0\n",
    "while x < 10:\n",
    "    x += 1\n",
    "    print(x)\n",
    "    if x > 5: break"
   ]
  },
  {
   "cell_type": "code",
   "execution_count": 19,
   "metadata": {},
   "outputs": [
    {
     "data": {
      "text/plain": [
       "True"
      ]
     },
     "execution_count": 19,
     "metadata": {},
     "output_type": "execute_result"
    }
   ],
   "source": [
    "stammbaum = {\"Abraham\", \"Mona\", \"Clancy\", \"Jackie\", \"Herb\", \"Homer\",\n",
    "\"Marge\", \"Patty\", \"Selma\", \"Bart\", \"Lisa\", \"Maggie\", \"Ling\"}\n",
    "\n",
    "marriedTo = {(\"Abraham\",\"Mona\"), (\"Mona\",\"Abraham\"), (\"Clancy\",\"Jackie\"), (\"Jackie\",\"Clancy\"),\n",
    "(\"Homer\",\"Marge\"), (\"Marge\",\"Homer\")}\n",
    "myset = set(());\n",
    "for member1 in stammbaum:\n",
    "    for member2 in stammbaum:\n",
    "        myset.add((member1, member2))\n",
    "\n",
    "myset.issuperset(marriedTo)"
   ]
  }
 ],
 "metadata": {
  "interpreter": {
   "hash": "941b10ec9e005cfe76c369ab664eba551130d21882d889bdf3a531e2cb6af61f"
  },
  "kernelspec": {
   "display_name": "Python 3.8.8 64-bit ('base': conda)",
   "name": "python3"
  },
  "language_info": {
   "codemirror_mode": {
    "name": "ipython",
    "version": 3
   },
   "file_extension": ".py",
   "mimetype": "text/x-python",
   "name": "python",
   "nbconvert_exporter": "python",
   "pygments_lexer": "ipython3",
   "version": "3.8.8"
  }
 },
 "nbformat": 4,
 "nbformat_minor": 5
}
