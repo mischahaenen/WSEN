{
 "cells": [
  {
   "cell_type": "code",
   "execution_count": 27,
   "metadata": {},
   "outputs": [
    {
     "name": "stdout",
     "output_type": "stream",
     "text": [
      "Umrechnung von Celsius in Fahrenheit\n",
      "Bitte geben Sie eine Temperatur in Celsius an\n",
      "12.0 Grad Celsius entsprechen 53.6 Grad Fahrenheit\n"
     ]
    }
   ],
   "source": [
    "# Python auf mehreren Zeilen\n",
    "print(\"Umrechnung von Celsius in Fahrenheit\")\n",
    "#Trennung einer Zeichenkette\n",
    "print(\"Bitte geben Sie eine Temperatur\"\n",
    "\" in Celsius an\")\n",
    "TempInCelsius = float(input())\n",
    "#Trennung eines Ausdrucks\n",
    "TempInFahrenheit= TempInCelsius \\\n",
    "*9 / 5 + 32\n",
    "#Trennung nach einem Komma\n",
    "print(TempInCelsius, \"Grad Celsius entsprechen\",\n",
    "TempInFahrenheit, \"Grad Fahrenheit\")"
   ]
  },
  {
   "cell_type": "code",
   "execution_count": 28,
   "metadata": {},
   "outputs": [],
   "source": [
    "# pass keyword\n",
    "def QuadraturDesKreises():\n",
    "    pass\n",
    "QuadraturDesKreises()"
   ]
  },
  {
   "cell_type": "code",
   "execution_count": 29,
   "metadata": {},
   "outputs": [
    {
     "name": "stdout",
     "output_type": "stream",
     "text": [
      "mw1(3,4)\n",
      "3.5\n",
      "mw2(3,4)\n",
      "3.4641016151377544\n"
     ]
    }
   ],
   "source": [
    "#eval() evaluiert den zusammengestzten Ausdruck\n",
    "import math\n",
    "#zwei Funktionen\n",
    "def mw1(a,b):\n",
    "    c = (a+b)/2\n",
    "    return c\n",
    "def mw2(a,b):\n",
    "    c = math.sqrt(a*b)\n",
    "    return c\n",
    "#eval\n",
    "for i in 1,2:\n",
    "    t = \"mw\" + str(i) + \"(3,4)\"\n",
    "    print(t)\n",
    "    c = eval(t)\n",
    "    print(c)"
   ]
  },
  {
   "cell_type": "code",
   "execution_count": 30,
   "metadata": {},
   "outputs": [
    {
     "name": "stdout",
     "output_type": "stream",
     "text": [
      "['aufgabe_4.ipynb', 'spicker_vorlagen.py', '__pycache__', 'lektion_4.ipynb', 'vorlagen', 'pyramide_calc.ipynb', 'spicker_code.py', '.ipynb_checkpoints', 'aufgaben_1_bis_3.ipynb', 'venv', 'lektion_1.ipynb', '.vscode', 'lektion_5.ipynb', '.idea']\n",
      "print(mw1(3,4))\n",
      "3.5\n",
      "print(mw2(3,4))\n",
      "3.4641016151377544\n"
     ]
    }
   ],
   "source": [
    "#exec() führt eine zusammengestzte Anweisung aus\n",
    "import math\n",
    "import os\n",
    "exec('print(os.listdir())')\n",
    "#zwei Funktionen\n",
    "def mw1(a,b):\n",
    "    c = (a+b)/2\n",
    "    return c\n",
    "def mw2(a,b):\n",
    "    c = math.sqrt(a*b)\n",
    "    return c\n",
    "#exec\n",
    "for i in 1, 2:\n",
    "    t = \"print(mw\"+str(i)+\"(3,4))\"\n",
    "    print(t)\n",
    "    exec(t)\n",
    "    "
   ]
  },
  {
   "cell_type": "code",
   "execution_count": 31,
   "metadata": {},
   "outputs": [
    {
     "name": "stdout",
     "output_type": "stream",
     "text": [
      "Zahlen: 14.285714285714286 0.2857142857142857\n",
      "Format f, Standard: 14.285714 14.285714 0.285714\n",
      "Format f, nach Komma: 14.2857142857142864755815026\n",
      "Format f, gesamt:   14.2857142857\n"
     ]
    }
   ],
   "source": [
    "#Zahlen mit Nachkommastellen\n",
    "x = 100/7\n",
    "y = 2/7\n",
    "print(\"Zahlen:\", x, y)\n",
    "#format f\n",
    "print(f\"Format f, Standard: {x:f} {x:f} {y:f}\")\n",
    "print(f\"Format f, nach Komma: {x:.25f}\")\n",
    "print(f\"Format f, gesamt: {x:15.10f}\" )"
   ]
  },
  {
   "cell_type": "code",
   "execution_count": 32,
   "metadata": {},
   "outputs": [
    {
     "name": "stdout",
     "output_type": "stream",
     "text": [
      "Zahlen: 14.285714285714286 0.2857142857142857\n",
      "Format % Standard: 1428.571429% 28.571429%\n",
      "Format %, nach Komma: 28.571%\n",
      "Format %, gesamt:      28.571%\n"
     ]
    }
   ],
   "source": [
    "#Zahlen mit Nachkommastellen\n",
    "x = 100/7\n",
    "y = 2/7\n",
    "print(\"Zahlen:\", x, y)\n",
    "#Format %\n",
    "print(f\"Format % Standard: {x:%} {y:%}\")\n",
    "print(f\"Format %, nach Komma: {y:.3%}\")\n",
    "print(f\"Format %, gesamt: {y:12.3%}\")"
   ]
  },
  {
   "cell_type": "code",
   "execution_count": null,
   "metadata": {},
   "outputs": [],
   "source": []
  },
  {
   "cell_type": "code",
   "execution_count": 33,
   "metadata": {},
   "outputs": [
    {
     "name": "stdout",
     "output_type": "stream",
     "text": [
      "Zahlen: 14.285714285714286 0.2857142857142857\n",
      "Format e Standard: 1.428571e+01 1.428571e+01 2.857143e-01\n",
      "Format e, nach Komma: 1.429e+01\n",
      "Format e, gesamt:    1.429e+01\n"
     ]
    }
   ],
   "source": [
    "#Zahlen mit Nachkommastellen\n",
    "x = 100/7\n",
    "y = 2/7\n",
    "print(\"Zahlen:\", x, y)\n",
    "#Format e\n",
    "print(f\"Format e Standard: {x:e} {x:e} {y:e}\")\n",
    "print(f\"Format e, nach Komma: {x:.3e}\")\n",
    "print(f\"Format e, gesamt: {x:12.3e}\")\n",
    "#format f\n",
    "print(f\"Format f, Standard: {x:f} {x:f} {y:f}\")\n",
    "print(f\"Format f, nach Komma: {x:.25f}\")\n",
    "print(f\"Format f, gesamt: {x:15.10f}\" )\n",
    "#Format %\n",
    "print(f\"Format % Standard: {x:%} {y:%}\")\n",
    "print(f\"Format %, nach Komma: {y:.3%}\")\n",
    "print(f\"Format %, gesamt: {y:12.3%}\")"
   ]
  },
  {
   "cell_type": "code",
   "execution_count": 20,
   "metadata": {},
   "outputs": [
    {
     "name": "stdout",
     "output_type": "stream",
     "text": [
      "  Nr        Name Anz           EP           GP\n",
      "0023       Apfel   1    2.95 Euro     2.95 Euro\n",
      "0008      Banane   3    1.45 Euro     4.35 Euro\n",
      "0042   Pfirsisch   5    3.05 Euro    15.25 Euro\n"
     ]
    }
   ],
   "source": [
    "#Tabelle mit verschiedenen Objekten\n",
    "artname ={23:\"Apfel\",8:\"Banane\",42:\"Pfirsisch\"}\n",
    "anzahl ={23:1, 8:3, 42:5}\n",
    "epreis ={23:2.95, 8:1.45, 42:3.05}\n",
    "print(f\"{'Nr':>4}{'Name':>12}{'Anz':>4}{'EP':>13}{'GP':>13}\")\n",
    "for x in 23, 8, 42:\n",
    "    print(f\"{x:04d}{artname[x]:>12}{anzahl[x]:4d}{epreis[x]:8.2f} Euro {anzahl[x]*epreis[x]:8.2f} Euro\")"
   ]
  },
  {
   "cell_type": "markdown",
   "metadata": {},
   "source": [
    "- Dezimalzahl : d\n",
    "- Dualzahl: b\n",
    "- Oktalzahl: o\n",
    "- Hexadezimalzahl: x"
   ]
  },
  {
   "cell_type": "code",
   "execution_count": 34,
   "metadata": {},
   "outputs": [
    {
     "name": "stdout",
     "output_type": "stream",
     "text": [
      " dez     dual oct hex\n",
      "  59   111011  73  3b\n",
      "  60   111100  74  3c\n",
      "  61   111101  75  3d\n",
      "  62   111110  76  3e\n",
      "  63   111111  77  3f\n",
      "  64  1000000 100  40\n",
      "  65  1000001 101  41\n",
      "  66  1000010 102  42\n",
      "  67  1000011 103  43\n",
      "  68  1000100 104  44\n"
     ]
    }
   ],
   "source": [
    "#Formatierung von Zeichenketten\n",
    "print(f\"{'dez':>4}{'dual':>9}{'oct':>4}{'hex':>4}\")\n",
    "#Formatierung ganzer Zahlen\n",
    "for z in range(59,69):\n",
    "    print(f\"{z:4d}{z:9b}{z:4o}{z:4x}\")"
   ]
  },
  {
   "cell_type": "code",
   "execution_count": 35,
   "metadata": {},
   "outputs": [
    {
     "name": "stdout",
     "output_type": "stream",
     "text": [
      "Zahlen: 14.285714285714286 0.2857142857142857\n",
      "Format f, Standard: 14.285714 14.2857140.285714\n",
      "Format f, nach Komma: 14.2857142857142864755815026\n",
      "Format f, gesamt:   14.2857142857\n",
      "Zahlen: 14.285714285714286 0.2857142857142857\n",
      "Format e Standard: 1.428571e+01 1.428571e+012.857143e-01\n",
      "Format e, nach Komma: 1.429e+01\n",
      "Format e, gesamt:    1.429e+01\n"
     ]
    }
   ],
   "source": [
    "# Format Funktion\n",
    "#Zahlen mit Nachkommastellen\n",
    "x = 100/7\n",
    "y = 2/7\n",
    "print(\"Zahlen:\", x, y)\n",
    "#format f\n",
    "print(\"Format f, Standard: {0:f} {0:f}{1:f}\".format(x,y))\n",
    "print(\"Format f, nach Komma: {0:.25f}\".format(x))\n",
    "print(\"Format f, gesamt: {0:15.10f}\".format(x) )\n",
    "\n",
    "#Format e\n",
    "print(\"Format e Standard: {0:e} {0:e}{1:e}\".format(x,y))\n",
    "print(\"Format e, nach Komma: {0:.3e}\".format(x))\n",
    "print(\"Format e, gesamt: {0:12.3e}\".format(x))\n",
    "\n",
    "#Format %\n",
    "print(\"Format % Standard: {0:%} {1:%}\".format(x,y))\n",
    "print(\"Format %, nach Komma: {0:.3%}\".format(y))\n",
    "print(\"Format %, gesamt: {0:12.3%}\".format(y))"
   ]
  },
  {
   "cell_type": "code",
   "execution_count": null,
   "metadata": {},
   "outputs": [],
   "source": []
  }
 ],
 "metadata": {
  "interpreter": {
   "hash": "31f2aee4e71d21fbe5cf8b01ff0e069b9275f58929596ceb00d14d90e3e16cd6"
  },
  "kernelspec": {
   "display_name": "Python 3.8.9 64-bit",
   "language": "python",
   "name": "python3"
  },
  "language_info": {
   "codemirror_mode": {
    "name": "ipython",
    "version": 3
   },
   "file_extension": ".py",
   "mimetype": "text/x-python",
   "name": "python",
   "nbconvert_exporter": "python",
   "pygments_lexer": "ipython3",
   "version": "3.8.9"
  },
  "orig_nbformat": 4
 },
 "nbformat": 4,
 "nbformat_minor": 2
}
