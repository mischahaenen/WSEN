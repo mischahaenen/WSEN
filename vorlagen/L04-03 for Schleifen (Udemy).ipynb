{
 "cells": [
  {
   "cell_type": "markdown",
   "metadata": {
    "collapsed": true
   },
   "source": [
    "# for Schleifen\n",
    "\n",
    "Eine `for` Schleife (en.: for loop) fungiert als Iteration in Python, die durch Items geht, die in einer Sequenz (oder jeder anderen iterierbaren Form) stehen. Objekte die wir bereits behandelt haben und auf die wir diese Iteration anwenden können sind Strings, Listen, Tupel und bereits vorinstallierte Iterationen für Dictionaries, wie bspw. keys und values.\n",
    "\n",
    "\"Klassische\" numerische Schleifen, wie sie C und C++ kennen, besitzen eine Schleifenvariable. Diese wird mit einem Startwert gestartet und dieser Wert nach jedem Durchlauf des Codeblocks verändert. Meistens wird sie um einen bestimmten Wert (z.B. 1) erhöht oder vermindert, bis ein bestimmter Zielwert erreicht ist. Diese Schleifenform wird auch als Zählschleife bezeichnet. Das hängt damit zusammen, dass die Schleifenvariable und somit auch der Startwert, der Endwert und die Schrittweite numerisch sein müssen.\n",
    "\n",
    "Im Beispiel sehen wir eine for-Schleife in C, die die Zahlen von 1 bis 10 ausdruckt: \n",
    "    \n",
    "    for(i = 1; i <= 10; i+)\n",
    "       printf(\"i: %d\\n\", i);\n",
    "\n",
    "Diese Form der Schleife existiert so nicht direkt in Python. Vergleichbar ist die Version hier mit einer *foreach* Schleife, die man aus anderen Sprachen kennen könnte.\n",
    "\n",
    "Wir haben das for Statement in Python bereits ein klein wenig in vorherigen Lektionen kennengelernt. Lasst es uns trotzdem noch einmal formalisieren, um es besser zu verstehen.\n",
    "\n",
    "Hier ist eine allgemeine Form dafür, wie eine for Schleife in Python aussieht:\n",
    "\n",
    "    for Item in Objekt:\n",
    "        Statement, um etwas zu tun\n",
    "        \n",
    "Der Name, der für das Item verwendet wird, obliegt vollkommen dem Coder. Das ermöglicht uns den nach eigenem Ermessen am besten passenden Namen auszuwählen. Der festgelegte Item Name kann dann innerhalb der Schleifen als Referenz verwendet werden. Zum Beispiel, wenn wir ein if Statement für das Item durchführen wollen.\n",
    "\n",
    "Weiter geht es mit einigen Beispielen für for Schleifen in Kombination mit einer Vielzahl von Objekt Arten. Wir beginnen simpel und steigern das Niveau fortlaufend.\n",
    "\n",
    "## Listen"
   ]
  },
  {
   "cell_type": "code",
   "execution_count": null,
   "metadata": {},
   "outputs": [],
   "source": [
    "# Wie wir solche Listen automatisieren können lernen wir in der nächsten Lektion\n",
    "l = [1, 2, 3, 4, 5, 6, 7, 8, 9, 10]"
   ]
  },
  {
   "cell_type": "code",
   "execution_count": null,
   "metadata": {},
   "outputs": [],
   "source": [
    "for num in l:\n",
    "    print(num)"
   ]
  },
  {
   "cell_type": "markdown",
   "metadata": {},
   "source": [
    "Gut! Hoffentlich ergibt das Sinn für euch. Lasst uns nun ein if Statement einbauen, um auf gerade Zahlen zu überprüfen. Dazu führen wir noch ein neues Konzept ein - das modulo.\n",
    "\n",
    "## Modulo\n",
    "\n",
    "Das Modulo erlaubt es uns, den Rest einer Division zu erhalten, indem wir % verwenden. Zum Beispiel:"
   ]
  },
  {
   "cell_type": "code",
   "execution_count": null,
   "metadata": {},
   "outputs": [],
   "source": [
    "17 % 5"
   ]
  },
  {
   "cell_type": "markdown",
   "metadata": {},
   "source": [
    "Das ergibt Sinn, da 17 geteilt durch 5 als Ergebnis 3 hat mit einem Rest von 2. Einige weitere kurze Beispiele:"
   ]
  },
  {
   "cell_type": "code",
   "execution_count": null,
   "metadata": {},
   "outputs": [],
   "source": [
    "10 % 3"
   ]
  },
  {
   "cell_type": "code",
   "execution_count": null,
   "metadata": {},
   "outputs": [],
   "source": [
    "18 % 7"
   ]
  },
  {
   "cell_type": "code",
   "execution_count": null,
   "metadata": {},
   "outputs": [],
   "source": [
    "4 % 2"
   ]
  },
  {
   "cell_type": "markdown",
   "metadata": {},
   "source": [
    "Sofern eine Zahl vollständig teilbar ist und keinen Rest hat, ist das Ergebnis von Modulo 0. Das können wir ausnutzen, um zu testen, ob eine Zahl eine ganze Zahl ist. \n",
    "\n",
    "Zurück zur for Schleife!\n",
    "\n",
    "## Nur gerade Nummern"
   ]
  },
  {
   "cell_type": "code",
   "execution_count": null,
   "metadata": {},
   "outputs": [],
   "source": [
    "for num in l:\n",
    "    if num % 2 == 0:\n",
    "        print(num)"
   ]
  },
  {
   "cell_type": "markdown",
   "metadata": {},
   "source": [
    "Wir können auch ein else Statement einbauen:"
   ]
  },
  {
   "cell_type": "code",
   "execution_count": null,
   "metadata": {},
   "outputs": [],
   "source": [
    "for num in l:\n",
    "    if num % 2 == 0:\n",
    "        print(num)\n",
    "    else:\n",
    "        print('Ungerade')"
   ]
  },
  {
   "cell_type": "markdown",
   "metadata": {},
   "source": [
    "## Laufende Summe\n",
    "\n",
    "Eine weitere übliche Idee ist es, während eines for Loops eine Art von Laufender Summe zu erfassen. Zum Beispiel: Eine for Schleife, die die Summe einer Liste bildet."
   ]
  },
  {
   "cell_type": "code",
   "execution_count": null,
   "metadata": {},
   "outputs": [],
   "source": [
    "# Start der Summe bei 0\n",
    "l_sum = 0\n",
    "\n",
    "for num in l:\n",
    "    l_sum = l_sum + num\n",
    "    \n",
    "print(l_sum)"
   ]
  },
  {
   "cell_type": "markdown",
   "metadata": {},
   "source": [
    "Toll! Schaut euch das obige Beispiel so lange an, bis ihr genau versteht, was passiert! Das hätten wir übrigens auch mit einem += lösen können. Seht her:"
   ]
  },
  {
   "cell_type": "code",
   "execution_count": null,
   "metadata": {},
   "outputs": [],
   "source": [
    "# Start der Summe bei 0\n",
    "l_sum = 0\n",
    "\n",
    "for num in l:\n",
    "    l_sum += num\n",
    "    \n",
    "print(l_sum)"
   ]
  },
  {
   "cell_type": "markdown",
   "metadata": {},
   "source": [
    "## Strings\n",
    "\n",
    "Wir haben for Schleifen bereits für Listen verwendet, aber wie sieht es mit Strings aus? Ruft euch in Erinnerung, dass Strings eine Sequenz sind. Wenn wir darüber eine Iteration laufen lassen, dann greifen wir auf jedes Item in diesem String zu."
   ]
  },
  {
   "cell_type": "code",
   "execution_count": null,
   "metadata": {},
   "outputs": [],
   "source": [
    "for zeichen in 'Das ist ein String!\"':\n",
    "    print(zeichen)"
   ]
  },
  {
   "cell_type": "markdown",
   "metadata": {},
   "source": [
    "## Tupel\n",
    "\n",
    "Lasst uns als nächstes auch noch Tupel betrachten:"
   ]
  },
  {
   "cell_type": "code",
   "execution_count": null,
   "metadata": {},
   "outputs": [],
   "source": [
    "tup = (1, 2, 3, 4, 5)\n",
    "\n",
    "for t in tup:\n",
    "    print(t)"
   ]
  },
  {
   "cell_type": "markdown",
   "metadata": {},
   "source": [
    "Tupel bieten eine besondere Qualität, wenn es um for Schleifen geht. Wenn ihr eine Iteration über eine Sequenz laufen lasst, die Tupel beinhaltet, wird das Tupel selbst zum Item. Das ist ein Beispiel für das stufenweise entpacken von Tupeln. Durch die for Schleife werden wir die einzelnen Tupel innerhalb der Sequenz entpacken und können auf die einzelnen Items im Tupel selbst zugreifen."
   ]
  },
  {
   "cell_type": "code",
   "execution_count": null,
   "metadata": {},
   "outputs": [],
   "source": [
    "l = [(2, 4), (6, 8), (10, 12)]"
   ]
  },
  {
   "cell_type": "code",
   "execution_count": null,
   "metadata": {},
   "outputs": [],
   "source": [
    "for tup in l:\n",
    "    print(tup)"
   ]
  },
  {
   "cell_type": "code",
   "execution_count": null,
   "metadata": {},
   "outputs": [],
   "source": [
    "# Jetzt mit Entpacken\n",
    "for (t1, t2) in l:\n",
    "    print(t1)"
   ]
  },
  {
   "cell_type": "markdown",
   "metadata": {},
   "source": [
    "Cool! Mit Tupeln in einer Sequenz können wir durch Entpacken auf die Items innerhalb der Tupel zugreifen. Der Grund aus dem das wichtig ist ist der, dass viele Objekte ihre Iterationen in Form von Tupeln ausgeben. Lasst uns als nächstes Iterationen für Dictionaries betrachten, um das genauer zu verstehen!\n",
    "\n",
    "## Dictionaires"
   ]
  },
  {
   "cell_type": "code",
   "execution_count": null,
   "metadata": {},
   "outputs": [],
   "source": [
    "d = {'k1':1,'k2':2,'k3':3}"
   ]
  },
  {
   "cell_type": "code",
   "execution_count": null,
   "metadata": {},
   "outputs": [],
   "source": [
    "for item in d:\n",
    "    print(item)"
   ]
  },
  {
   "cell_type": "markdown",
   "metadata": {},
   "source": [
    "Ist euch aufgefallen, wie das nur die Keys ausgibt? Wie können wir also an die Werte kommen? Oder wie erhalten wir beides, Keys und Werte?\n",
    "\n",
    "### items()\n",
    "\n",
    "Ihr solltet .items() nutzen, um durch Keys und Werte eines Dictionary zu iterieren. Zum Beispiel:"
   ]
  },
  {
   "cell_type": "code",
   "execution_count": null,
   "metadata": {},
   "outputs": [],
   "source": [
    "for k,v in d.items():\n",
    "    print(k)\n",
    "    print(v)"
   ]
  },
  {
   "cell_type": "markdown",
   "metadata": {},
   "source": [
    "Wenn ihr eine echte Liste von Schlüsseln, Werten oder Schlüssel-/Werttupeln erhalten möchtet, könnt ihr die Ansicht als Liste casten:"
   ]
  },
  {
   "cell_type": "code",
   "execution_count": null,
   "metadata": {},
   "outputs": [],
   "source": [
    "list(d.keys())"
   ]
  },
  {
   "cell_type": "markdown",
   "metadata": {},
   "source": [
    "Denkt daran, dass Wörterbücher ungeordnet sind und dass Schlüssel und Werte in willkürlicher Reihenfolge wiederkehren.\n",
    "Ihr könnt eine sortierte Liste mit sorted() erhalten:"
   ]
  },
  {
   "cell_type": "code",
   "execution_count": null,
   "metadata": {},
   "outputs": [],
   "source": [
    "sorted(d.values())"
   ]
  },
  {
   "cell_type": "markdown",
   "metadata": {},
   "source": [
    "## Schlussfolgerung\n",
    "\n",
    "Wir haben gelernt wie wir for Loops nutzen können, um durch Tupel, Listen, Strings und Dictionaries zu iterieren. Es wird ein wichtiges Tool für uns werden, deshalb ist es wichtig, dass ihr es vollständig versteht."
   ]
  },
  {
   "cell_type": "code",
   "execution_count": null,
   "metadata": {},
   "outputs": [],
   "source": []
  }
 ],
 "metadata": {
  "kernelspec": {
   "display_name": "Python 3",
   "language": "python",
   "name": "python3"
  },
  "language_info": {
   "codemirror_mode": {
    "name": "ipython",
    "version": 3
   },
   "file_extension": ".py",
   "mimetype": "text/x-python",
   "name": "python",
   "nbconvert_exporter": "python",
   "pygments_lexer": "ipython3",
   "version": "3.8.3"
  }
 },
 "nbformat": 4,
 "nbformat_minor": 2
}
