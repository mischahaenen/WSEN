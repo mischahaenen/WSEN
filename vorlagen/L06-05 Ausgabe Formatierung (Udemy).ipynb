{
 "cells": [
  {
   "cell_type": "markdown",
   "metadata": {
    "collapsed": true
   },
   "source": [
    "# Ausgabe Formatierung\n",
    "\n",
    "Die Zeichenkettenformatierung ermöglicht es Ihnen, Elemente in eine Zeichenkette einzufügen, anstatt zu versuchen, Elemente durch Kommas oder Zeichenkettenverkettungen miteinander zu verketten. Hier ist ein kleiner Vergleich:\n",
    "\n",
    "    Spieler = 'Thomas'\n",
    "    Punkte = 33\n",
    "\n",
    "    'Gestern Abend hat ' + Spieler + ' ' + str(Punkte) + ' Punkte erzielt.'   # Verkettung\n",
    "    f'Gestern Abend hat {Spieler} {Punkte} Punkte erzielt.'                   # String-Formatierung\n",
    "\n",
    "Es gibt drei Möglichkeiten, die Stringformatierung durchzuführen.\n",
    "- Die älteste Methode beinhaltet Platzhalter mit dem Modulo %-Zeichen.\n",
    "- Eine verbesserte Technik verwendet die String-Methode .format().\n",
    "- Die neueste Methode, die mit Python 3.6 eingeführt wurde, verwendet formatierte Zeichenkettenliterale, die f-Zeichenketten genannt werden.\n",
    "\n",
    "Da Sie wahrscheinlich alle drei Versionen im Code von jemand anderem finden werden, beschreiben wir hier jede von ihnen."
   ]
  },
  {
   "cell_type": "markdown",
   "metadata": {},
   "source": [
    "## Formatierung mit Platzhaltern\n",
    "Sie können <code>%s</code> verwenden, um Zeichenfolgen in Ihre Druckanweisungen einzufügen. Das Modulo % wird als \"Stringformatierungsoperator\" bezeichnet."
   ]
  },
  {
   "cell_type": "code",
   "execution_count": null,
   "metadata": {},
   "outputs": [],
   "source": [
    "print(\"I'm going to inject %s here.\" %'something')"
   ]
  },
  {
   "cell_type": "markdown",
   "metadata": {},
   "source": [
    "Sie können mehrere Elemente übergeben, indem Sie sie innerhalb eines Tupels hinter dem `%`-Operator platzieren."
   ]
  },
  {
   "cell_type": "code",
   "execution_count": null,
   "metadata": {},
   "outputs": [],
   "source": [
    "print(\"I'm going to inject %s text here, and %s text here.\" %('some', 'more'))"
   ]
  },
  {
   "cell_type": "markdown",
   "metadata": {},
   "source": [
    "Sie können auch Variablennamen übergeben:"
   ]
  },
  {
   "cell_type": "code",
   "execution_count": null,
   "metadata": {},
   "outputs": [],
   "source": [
    "x, y = 'some', 'more'\n",
    "print(\"I'm going to inject %s text here, and %s text here.\" %(x, y))"
   ]
  },
  {
   "cell_type": "markdown",
   "metadata": {},
   "source": [
    "### Formatkonvertierungsmethoden\n",
    "Es ist zu beachten, dass zwei Methoden <code>%s</code> und <code>%r</code> jedes Python-Objekt mit zwei getrennten Methoden in eine Zeichenkette umwandeln: `str()` und `repr()`. Wir werden später im Kurs mehr über diese Funktionen erfahren, aber Sie sollten beachten, dass `%r` und `repr()` die *Zeichenkettenrepräsentation* des Objekts liefern, einschliesslich Anführungszeichen und eventueller Escape-Zeichen."
   ]
  },
  {
   "cell_type": "code",
   "execution_count": null,
   "metadata": {},
   "outputs": [],
   "source": [
    "print('He said his name was %s.' %'Fred')\n",
    "print('He said his name was %r.' %'Fred')"
   ]
  },
  {
   "cell_type": "markdown",
   "metadata": {},
   "source": [
    "Als weiteres Beispiel fügt \\t einen Tabulator in eine Zeichenfolge ein."
   ]
  },
  {
   "cell_type": "code",
   "execution_count": null,
   "metadata": {},
   "outputs": [],
   "source": [
    "print('I once caught a fish %s.' %'this \\tbig')\n",
    "print('I once caught a fish %r.' %'this \\tbig')"
   ]
  },
  {
   "cell_type": "markdown",
   "metadata": {},
   "source": [
    "Der `%s`-Operator wandelt alles, was er sieht, in eine Zeichenkette um, einschließlich Ganzzahlen und Fließkommazahlen. Der `%d`-Operator wandelt zuerst Zahlen in ganze Zahlen um, ohne Rundung. Beachten Sie den Unterschied unten:"
   ]
  },
  {
   "cell_type": "code",
   "execution_count": null,
   "metadata": {},
   "outputs": [],
   "source": [
    "print('I wrote %s programs today.' %3.75)\n",
    "print('I wrote %d programs today.' %3.75)   "
   ]
  },
  {
   "cell_type": "markdown",
   "metadata": {},
   "source": [
    "### Auffüllen und Präzision von Fliesskommazahlen\n",
    "Fliesskommazahlen verwenden das Format <code>%5.2f</code>. Dabei wäre <code>5</code> die Mindestanzahl von Zeichen, die die Zeichenkette enthalten sollte; diese können mit Leerzeichen aufgefüllt werden, wenn die gesamte Zahl nicht so viele Ziffern hat. Daneben steht <code>.2f</code> für die Anzahl der Ziffern, die nach dem Dezimalpunkt angezeigt werden sollen. Lassen Sie uns einige Beispiele sehen:"
   ]
  },
  {
   "cell_type": "code",
   "execution_count": null,
   "metadata": {},
   "outputs": [],
   "source": [
    "print('Floating point numbers: %5.2f' %(13.144))"
   ]
  },
  {
   "cell_type": "code",
   "execution_count": null,
   "metadata": {},
   "outputs": [],
   "source": [
    "print('Floating point numbers: %1.0f' %(13.144))"
   ]
  },
  {
   "cell_type": "code",
   "execution_count": null,
   "metadata": {},
   "outputs": [],
   "source": [
    "print('Floating point numbers: %1.5f' %(13.144))"
   ]
  },
  {
   "cell_type": "code",
   "execution_count": null,
   "metadata": {},
   "outputs": [],
   "source": [
    "print('Floating point numbers: %10.2f' %(13.144))"
   ]
  },
  {
   "cell_type": "code",
   "execution_count": null,
   "metadata": {},
   "outputs": [],
   "source": [
    "print('Floating point numbers: %25.2f' %(13.144))"
   ]
  },
  {
   "cell_type": "markdown",
   "metadata": {},
   "source": [
    "Weitere Informationen zur Stringformatierung mit Platzhaltern finden Sie unter https://docs.python.org/3/library/stdtypes.html#old-string-formatting"
   ]
  },
  {
   "cell_type": "markdown",
   "metadata": {},
   "source": [
    "### Mehrfache Formatierung\n",
    "Nichts verbietet die Verwendung von mehr als einem Konvertierungswerkzeug in ein und derselben Druckanweisung:"
   ]
  },
  {
   "cell_type": "code",
   "execution_count": null,
   "metadata": {},
   "outputs": [],
   "source": [
    "print('First: %s, Second: %5.2f, Third: %r' %('hi!',3.1415,'bye!'))"
   ]
  },
  {
   "cell_type": "markdown",
   "metadata": {},
   "source": [
    "## Formatierung mit der Methode `.format()`\n",
    "Eine bessere Möglichkeit, Objekte in Ihre Zeichenketten für Druckanweisungen zu formatieren, bietet die Methode `.format()`. Die Syntax lautet:\n",
    "\n",
    "    Zeichenkette hier {} dann auch {}'.format('etwas1','etwas2')\n",
    "    \n",
    "Zum Beispiel:"
   ]
  },
  {
   "cell_type": "code",
   "execution_count": null,
   "metadata": {},
   "outputs": [],
   "source": [
    "print('This is a string with an {}'.format('insert'))"
   ]
  },
  {
   "cell_type": "markdown",
   "metadata": {},
   "source": [
    "#### 1. Eingefügte Objekte können nach der Index-Position aufgerufen werden:"
   ]
  },
  {
   "cell_type": "code",
   "execution_count": null,
   "metadata": {},
   "outputs": [],
   "source": [
    "print('The {2} {1} {0}'.format('fox','brown','quick'))"
   ]
  },
  {
   "cell_type": "markdown",
   "metadata": {},
   "source": [
    "#### 2. Eingefügte Objekte können mit Schlagworten versehen werden:"
   ]
  },
  {
   "cell_type": "code",
   "execution_count": null,
   "metadata": {},
   "outputs": [],
   "source": [
    "print('First Object: {a}, Second Object: {b}, Third Object: {c}'.format(a = 1, b = 'Two', c = 12.3))"
   ]
  },
  {
   "cell_type": "markdown",
   "metadata": {},
   "source": [
    "#### 3. Eingefügte Objekte können wiederverwendet werden, wodurch Doppelarbeit vermieden wird:"
   ]
  },
  {
   "cell_type": "code",
   "execution_count": null,
   "metadata": {},
   "outputs": [],
   "source": [
    "print('A %s saved is a %s earned.' %('penny','penny'))\n",
    "# vs.\n",
    "print('A {p} saved is a {p} earned.'.format(p='penny'))"
   ]
  },
  {
   "cell_type": "markdown",
   "metadata": {},
   "source": [
    "### Ausrichtung, Auffüllen und Präzision mit `.format()`\n",
    "Innerhalb der geschweiften Klammern können Sie Feldlängen, links/rechts Ausrichtungen, Rundungsparameter und mehr zuweisen"
   ]
  },
  {
   "cell_type": "code",
   "execution_count": null,
   "metadata": {},
   "outputs": [],
   "source": [
    "print('{0:8} | {1:9}'.format('Fruit', 'Quantity'))\n",
    "print('{0:8} | {1:9}'.format('Apples', 3.))\n",
    "print('{0:8} | {1:9}'.format('Oranges', 10))"
   ]
  },
  {
   "cell_type": "markdown",
   "metadata": {},
   "source": [
    "Standardmäßig richtet `.format()` Text links, Zahlen rechts aus. Sie können ein optionales `<`, `^` oder `>` übergeben, um eine linke, zentrierte oder rechte Ausrichtung festzulegen:"
   ]
  },
  {
   "cell_type": "code",
   "execution_count": null,
   "metadata": {},
   "outputs": [],
   "source": [
    "print('{0:<8} | {1:^8} | {2:>8}'.format('Left', 'Center', 'Right'))\n",
    "print('{0:<8} | {1:^8} | {2:>8}'.format(11, 22, 33))"
   ]
  },
  {
   "cell_type": "markdown",
   "metadata": {},
   "source": [
    "Sie können dem Aligment-Operator ein Füllzeichen voranstellen"
   ]
  },
  {
   "cell_type": "code",
   "execution_count": null,
   "metadata": {},
   "outputs": [],
   "source": [
    "print('{0:=<8} | {1:-^8} | {2:.>8}'.format('Left', 'Center', 'Right'))\n",
    "print('{0:=<8} | {1:-^8} | {2:.>8}'.format(11, 22, 33))"
   ]
  },
  {
   "cell_type": "markdown",
   "metadata": {},
   "source": [
    "Feldbreiten und Float-Präzision werden ähnlich wie Platzhalter gehandhabt. Die folgenden beiden Druckanweisungen sind äquivalent:"
   ]
  },
  {
   "cell_type": "code",
   "execution_count": null,
   "metadata": {},
   "outputs": [],
   "source": [
    "print('This is my ten-character, two-decimal number:%10.2f' %13.579)\n",
    "print('This is my ten-character, two-decimal number:{0:10.2f}'.format(13.579))"
   ]
  },
  {
   "cell_type": "markdown",
   "metadata": {},
   "source": [
    "Beachten Sie, dass auf den Doppelpunkt 5 Leerzeichen folgen und 5 Zeichen von 13,58 aufgenommen werden, insgesamt also zehn Zeichen.\n",
    "\n",
    "Weitere Informationen über die String .format()-Methode finden Sie unter https://docs.python.org/3/library/string.html#formatstrings"
   ]
  },
  {
   "cell_type": "markdown",
   "metadata": {},
   "source": [
    "## Formatierte String-Literale (f-Strings)"
   ]
  },
  {
   "cell_type": "markdown",
   "metadata": {},
   "source": [
    "Die mit Python 3.6 eingeführten f-Strings bieten mehrere Vorteile gegenüber der oben beschriebenen älteren .format()-String-Methode. Zum einen können Sie externe Variablen sofort in die Zeichenkette einbringen, anstatt sie als Argumente durch .format(var) zu übergeben."
   ]
  },
  {
   "cell_type": "code",
   "execution_count": null,
   "metadata": {},
   "outputs": [],
   "source": [
    "name = 'Fred'\n",
    "\n",
    "print(f\"He said his name is {name}.\")"
   ]
  },
  {
   "cell_type": "markdown",
   "metadata": {},
   "source": [
    "Übergeben Sie !r, um die Zeichenkettendarstellung zu erhalten:"
   ]
  },
  {
   "cell_type": "markdown",
   "metadata": {},
   "source": [
    "#### Die Fliesskomma-Formatierung folgt dem Muster: `\"Ergebnis\": {Wert:{Breite}.{Präzision}}}\"`\n"
   ]
  },
  {
   "cell_type": "markdown",
   "metadata": {},
   "source": [
    "Während Sie bei der `.format()` Methode vielleicht `{Wert:10.4f}` sehen, kann dies bei f-Zeichenketten zu `{Wert:{10}.{6}}}` werden."
   ]
  },
  {
   "cell_type": "code",
   "execution_count": null,
   "metadata": {},
   "outputs": [],
   "source": [
    "num = 23.45678\n",
    "print(\"My 10 character, four decimal number is:{0:10.4f}\".format(num))\n",
    "print(f\"My 10 character, four decimal number is:{num:{10}.{6}}\")"
   ]
  },
  {
   "cell_type": "markdown",
   "metadata": {},
   "source": [
    "Beachten Sie, dass sich bei f-Zeichenketten die Genauigkeit auf die Gesamtzahl der Ziffern bezieht, nicht nur auf die der Dezimalstelle folgenden Ziffern. Dies entspricht eher der wissenschaftlichen Notation und statistischen Analyse. Leider werden f-Zeichenketten nicht rechts von der Dezimalstelle aufgefüllt, auch wenn die Genauigkeit dies zulässt:"
   ]
  },
  {
   "cell_type": "code",
   "execution_count": null,
   "metadata": {},
   "outputs": [],
   "source": [
    "num = 23.45\n",
    "print(\"My 10 character, four decimal number is:{0:10.4f}\".format(num))\n",
    "print(f\"My 10 character, four decimal number is:{num:{10}.{6}}\")"
   ]
  },
  {
   "cell_type": "markdown",
   "metadata": {},
   "source": [
    "Wenn nötig können Sie immer die Syntax der .format()-Methode innerhalb einer f-Zeichenkette verwenden:"
   ]
  },
  {
   "cell_type": "code",
   "execution_count": null,
   "metadata": {},
   "outputs": [],
   "source": [
    "num = 23.45\n",
    "print(\"My 10 character, four decimal number is:{0:10.4f}\".format(num))\n",
    "print(f\"My 10 character, four decimal number is:{num:10.4f}\")"
   ]
  },
  {
   "cell_type": "markdown",
   "metadata": {},
   "source": [
    "Für weitere Informationen über formatierte Zeichenkettenliterale besuchen Sie https://docs.python.org/3/reference/lexical_analysis.html#f-strings"
   ]
  },
  {
   "cell_type": "markdown",
   "metadata": {},
   "source": [
    "Das sind die Grundlagen der Stringformatierung!"
   ]
  }
 ],
 "metadata": {
  "kernelspec": {
   "display_name": "Python 3",
   "language": "python",
   "name": "python3"
  },
  "language_info": {
   "codemirror_mode": {
    "name": "ipython",
    "version": 3
   },
   "file_extension": ".py",
   "mimetype": "text/x-python",
   "name": "python",
   "nbconvert_exporter": "python",
   "pygments_lexer": "ipython3",
   "version": "3.8.3"
  }
 },
 "nbformat": 4,
 "nbformat_minor": 2
}
