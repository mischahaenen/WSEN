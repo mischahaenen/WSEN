{
 "cells": [
  {
   "cell_type": "markdown",
   "metadata": {
    "collapsed": true
   },
   "source": [
    "# Listen\n",
    "\n",
    "Zuvor als wir über Strings sprachen, haben wir das Konzept von Sequenzen eingeführt. Listen können als die allgemeinste Form von Sequenzen in Python verstanden werden. Anders als Strings sind sie änderbar, was bedeutet, dass die Elemente in einer Liste geändert werden können!\n",
    "\n",
    "In dieser Lektion werden wir folgendes lernen:\n",
    "\n",
    "1. Erstellen von Listen\n",
    "2. Indexierung und Zerteilung von Listen\n",
    "3. Grundlegende Listen Methoden\n",
    "4. Verschachtelte Listen\n",
    "5. Einführung zur Zusammenfassung von Listen\n",
    "\n",
    "Listen werden mit Klammern [] erstellt und ihre Elemente durch Kommas getrennt.\n",
    "\n",
    "Lasst uns loslegen und einige Listen erstellen!"
   ]
  },
  {
   "cell_type": "code",
   "execution_count": null,
   "metadata": {},
   "outputs": [],
   "source": [
    "# Eine Liste der Variablen liste zuweisen\n",
    "liste = [1, 2, 3]"
   ]
  },
  {
   "cell_type": "markdown",
   "metadata": {},
   "source": [
    "Wir haben soeben eine Liste von Zahlen erstellt, wobei Listen verschiedene Arten von Objekten beinhalten können. Zum Beispiel:"
   ]
  },
  {
   "cell_type": "code",
   "execution_count": null,
   "metadata": {},
   "outputs": [],
   "source": [
    "liste = ['Ein String', 23, 100.232, 'H']"
   ]
  },
  {
   "cell_type": "markdown",
   "metadata": {},
   "source": [
    "Genau wie bei Strings gibt uns die len() Funktion die Anzahl der Listenelemente die in der Sequenz beinhaltet sind."
   ]
  },
  {
   "cell_type": "code",
   "execution_count": null,
   "metadata": {},
   "outputs": [],
   "source": [
    "len(liste)"
   ]
  },
  {
   "cell_type": "markdown",
   "metadata": {},
   "source": [
    "## Indexierung und Aufteilen\n",
    "\n",
    "Beides funktioniert so wie bei Strings. Lasst uns eine Liste erstellen und die Funktionsweise auffrischen:"
   ]
  },
  {
   "cell_type": "code",
   "execution_count": null,
   "metadata": {},
   "outputs": [],
   "source": [
    "liste = ['Eins', 'Zwei', 'Drei', 4, 5]"
   ]
  },
  {
   "cell_type": "code",
   "execution_count": null,
   "metadata": {},
   "outputs": [],
   "source": [
    "# Das Element bei Index 0\n",
    "liste[0]"
   ]
  },
  {
   "cell_type": "code",
   "execution_count": null,
   "metadata": {},
   "outputs": [],
   "source": [
    "# Index 1 und alle Elemente danach\n",
    "liste[1:]"
   ]
  },
  {
   "cell_type": "code",
   "execution_count": null,
   "metadata": {},
   "outputs": [],
   "source": [
    "# Alle Elemente bis zum Index 3\n",
    "liste[:3]"
   ]
  },
  {
   "cell_type": "markdown",
   "metadata": {},
   "source": [
    "Wir können - genau wie bei Strings - Listen durch ein + erweitern."
   ]
  },
  {
   "cell_type": "code",
   "execution_count": null,
   "metadata": {},
   "outputs": [],
   "source": [
    "liste + ['Neues Item']"
   ]
  },
  {
   "cell_type": "markdown",
   "metadata": {},
   "source": [
    "Beachtet, dass dies die eigentliche Liste nicht ändert!"
   ]
  },
  {
   "cell_type": "code",
   "execution_count": null,
   "metadata": {},
   "outputs": [],
   "source": [
    "liste"
   ]
  },
  {
   "cell_type": "markdown",
   "metadata": {},
   "source": [
    "Wir müssten die Liste neu zuordnen, um eine permanente Ergänzung durchzuführen."
   ]
  },
  {
   "cell_type": "code",
   "execution_count": null,
   "metadata": {},
   "outputs": [],
   "source": [
    "# Neue Zuordnung\n",
    "liste = liste + ['Neues permanentes Item']"
   ]
  },
  {
   "cell_type": "code",
   "execution_count": null,
   "metadata": {},
   "outputs": [],
   "source": [
    "liste"
   ]
  },
  {
   "cell_type": "markdown",
   "metadata": {},
   "source": [
    "Wir können außerdem durch ein * die wiederholte Ausgabe erzeugen:"
   ]
  },
  {
   "cell_type": "code",
   "execution_count": null,
   "metadata": {},
   "outputs": [],
   "source": [
    "# Die Liste verdoppel\n",
    "liste * 2"
   ]
  },
  {
   "cell_type": "code",
   "execution_count": null,
   "metadata": {},
   "outputs": [],
   "source": [
    "# Auch Verdopplung ist nicht permanent\n",
    "liste"
   ]
  },
  {
   "cell_type": "markdown",
   "metadata": {},
   "source": [
    "## Grundlegende Listen Methoden\n",
    "\n",
    "Sofern du andere Programmiersprachen kennst könntest du an diesem Punkt Parallelen zwischen Listen und Arrays ziehen. Listen in Python sind allerdings aus zwei guten Gründen flexibler als Arrays in anderen Sprachen: Sie haben keine fixierte Größe und sie haben keine Beschränkung der Objektart.\n",
    "\n",
    "Lasst uns ein paar weitere spezielle Methoden für Listen kennenlernen:"
   ]
  },
  {
   "cell_type": "code",
   "execution_count": null,
   "metadata": {},
   "outputs": [],
   "source": [
    "# Neue Liste erstellen\n",
    "l = [1, 2, 3]"
   ]
  },
  {
   "cell_type": "markdown",
   "metadata": {},
   "source": [
    "Durch die `append` Methoden können wir Items permanent zur Liste hinzufügen:"
   ]
  },
  {
   "cell_type": "code",
   "execution_count": null,
   "metadata": {},
   "outputs": [],
   "source": [
    "# Append\n",
    "l.append('Hinzugefuegt!')"
   ]
  },
  {
   "cell_type": "code",
   "execution_count": null,
   "metadata": {},
   "outputs": [],
   "source": [
    "# Check\n",
    "l"
   ]
  },
  {
   "cell_type": "markdown",
   "metadata": {},
   "source": [
    "Nutzt `pop` um Items aus der Liste zu löschen. Per Standard löscht pop das letzte Item aus der Liste, aber wir können auch bestimmen, welcher Index gelöscht werden soll. Hier ist ein Beispiel:"
   ]
  },
  {
   "cell_type": "code",
   "execution_count": null,
   "metadata": {},
   "outputs": [],
   "source": [
    "# Das Item am Index 0 löschen\n",
    "l.pop(0)"
   ]
  },
  {
   "cell_type": "code",
   "execution_count": null,
   "metadata": {},
   "outputs": [],
   "source": [
    "# Check\n",
    "l"
   ]
  },
  {
   "cell_type": "code",
   "execution_count": null,
   "metadata": {},
   "outputs": [],
   "source": [
    "# Das gelöschte Item einer Variablen zuweisen\n",
    "# Denkt daran, das per Standard das letze Item gelöscht wird\n",
    "poped = l.pop()"
   ]
  },
  {
   "cell_type": "code",
   "execution_count": null,
   "metadata": {},
   "outputs": [],
   "source": [
    "# Check\n",
    "poped"
   ]
  },
  {
   "cell_type": "code",
   "execution_count": null,
   "metadata": {},
   "outputs": [],
   "source": [
    "# Check\n",
    "l"
   ]
  },
  {
   "cell_type": "markdown",
   "metadata": {},
   "source": [
    "Es sollte außerdem festgehalten werden, das die Indexierung einen Error erzeugt, sofern kein Element am angegebenen Index existiert. So, wie hier:"
   ]
  },
  {
   "cell_type": "code",
   "execution_count": null,
   "metadata": {},
   "outputs": [],
   "source": [
    "l[100]"
   ]
  },
  {
   "cell_type": "code",
   "execution_count": null,
   "metadata": {},
   "outputs": [],
   "source": [
    "neue_liste = ['a', 'e', 'u', 'o', 'i']"
   ]
  },
  {
   "cell_type": "code",
   "execution_count": null,
   "metadata": {},
   "outputs": [],
   "source": [
    "# Anzeigen\n",
    "neue_liste"
   ]
  },
  {
   "cell_type": "code",
   "execution_count": null,
   "metadata": {},
   "outputs": [],
   "source": [
    "# Nutzt reverse, um die umgekehrte Reihenfolge zu erzeugen (permanent!)\n",
    "neue_liste.reverse()"
   ]
  },
  {
   "cell_type": "code",
   "execution_count": null,
   "metadata": {},
   "outputs": [],
   "source": [
    "# Check\n",
    "neue_liste"
   ]
  },
  {
   "cell_type": "code",
   "execution_count": null,
   "metadata": {},
   "outputs": [],
   "source": [
    "# Nutzt sort um die Liste zu Sortieren\n",
    "# Strings nach Alphabet, Zahlen aufsteigen\n",
    "neue_liste.sort()"
   ]
  },
  {
   "cell_type": "code",
   "execution_count": null,
   "metadata": {},
   "outputs": [],
   "source": [
    "# Check\n",
    "neue_liste"
   ]
  },
  {
   "cell_type": "markdown",
   "metadata": {},
   "source": [
    "## Verschachtelte Listen\n",
    "\n",
    "Ein tolles Feature von Python Daten Strukturen ist, dass sie Einbinden/Verschachteln unterstützen. Das bedeutet, wir können Daten Strukturen innerhalb von Daten Strukturen haben. Zum Beispiel: Eine Liste in einer Liste.\n",
    "\n",
    "Lasst uns betrachtet, wie das funktioniert!"
   ]
  },
  {
   "cell_type": "code",
   "execution_count": null,
   "metadata": {},
   "outputs": [],
   "source": [
    "# Drei Listen erstellen\n",
    "lst_1 = [1, 2, 3]\n",
    "lst_2 = [4, 5, 6]\n",
    "lst_3 = [7, 8, 9]\n",
    "\n",
    "# Eine Liste aus den Listen erstellen\n",
    "matrix = [lst_1, lst_2, lst_3]"
   ]
  },
  {
   "cell_type": "code",
   "execution_count": null,
   "metadata": {},
   "outputs": [],
   "source": [
    "# Check\n",
    "matrix"
   ]
  },
  {
   "cell_type": "markdown",
   "metadata": {},
   "source": [
    "Und jetzt können wir wieder Indexierung verwenden, um auf Elemente zuzugreifen. Dabei ist wichtig, dass es nun zwei Ebenen gibt. Schaut hier:"
   ]
  },
  {
   "cell_type": "code",
   "execution_count": null,
   "metadata": {},
   "outputs": [],
   "source": [
    "# Das erste Element der Matrix\n",
    "matrix[0]"
   ]
  },
  {
   "cell_type": "code",
   "execution_count": null,
   "metadata": {},
   "outputs": [],
   "source": [
    "# Das erste Element des ersten Elements der Matrix\n",
    "matrix[0][0]"
   ]
  },
  {
   "cell_type": "markdown",
   "metadata": {},
   "source": [
    "## Listen Abstraktion\n",
    "\n",
    "Python bietet ein fortgeschrittenes Feature namens Listen Abstraktion (list comprehensions). Sie ermöglichen das schnelle Erstellen von Listen. Für das volle Verständnis von Listen Abstraktion müssen wir Loops verstehen. Also keine Sorge, falls jetzt noch nicht alles klar ist. Ihr könnt diese Sektion überspringen, da wir später darauf zurückkommen.\n",
    "\n",
    "Aber solltet ihr interessiert sein, hier ist ein Beispiel:"
   ]
  },
  {
   "cell_type": "code",
   "execution_count": null,
   "metadata": {},
   "outputs": [],
   "source": [
    "# Eine Listen Abstraktion erstellen, die einen for loop nutzt\n",
    "erste_spalte = [zeile[0] for zeile in matrix]"
   ]
  },
  {
   "cell_type": "code",
   "execution_count": null,
   "metadata": {},
   "outputs": [],
   "source": [
    "# Check\n",
    "erste_spalte"
   ]
  },
  {
   "cell_type": "markdown",
   "metadata": {},
   "source": [
    "Wir haben Listen Abstraktion genutzt, um die erste Spalte der Matrix, d.h. das erste Element jeder Zeile, als Liste zu erstellen. Wir werden uns dies später noch viel detaillierter ansehen. \n",
    "\n",
    "Für mehr fortgeschrittenen Methoden und Features von Listen in Python könnt ihr später im Kurs die Lektion \"Fortgeschrittene Listen\" anschauen!"
   ]
  }
 ],
 "metadata": {
  "kernelspec": {
   "display_name": "Python 3",
   "language": "python",
   "name": "python3"
  },
  "language_info": {
   "codemirror_mode": {
    "name": "ipython",
    "version": 3
   },
   "file_extension": ".py",
   "mimetype": "text/x-python",
   "name": "python",
   "nbconvert_exporter": "python",
   "pygments_lexer": "ipython3",
   "version": "3.8.3"
  }
 },
 "nbformat": 4,
 "nbformat_minor": 2
}
