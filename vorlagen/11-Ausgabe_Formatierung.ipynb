{
 "cells": [
  {
   "cell_type": "markdown",
   "metadata": {
    "collapsed": true
   },
   "source": [
    "# Theis, Listing 5.7"
   ]
  },
  {
   "cell_type": "code",
   "execution_count": null,
   "metadata": {},
   "outputs": [],
   "source": [
    "# Zahl mit Nachkommastellen\n",
    "x = 100/7\n",
    "y = 2/7\n",
    "print(\"Zahlen:\", x, y)\n",
    "print()\n",
    "\n",
    "# Format f\n",
    "print(f\"Format f, Standard:   {x:f} {x:f} {y:f}\")\n",
    "print(f\"Format f, nach Komma: {x:.25f}\")\n",
    "print(f\"Format f, gesamt:     {x:15.10f}\")\n",
    "print()\n",
    "\n",
    "# Format e\n",
    "print(f\"Format e, Standard:   {x:e}\")\n",
    "print(f\"Format e, nach Komma: {x:.3e}\")\n",
    "print(f\"Format e, gesamt:     {x:12.3e}\")\n",
    "print()\n",
    "\n",
    "# Format %\n",
    "print(f\"Format %, Standard:   {y:%}\")\n",
    "print(f\"Format %, nach Komma: {y:.3%}\")\n",
    "print(f\"Format %, gesamt:     {y:12.3%}\")\n"
   ]
  },
  {
   "cell_type": "markdown",
   "metadata": {},
   "source": [
    "# Theis, Listing 5.8"
   ]
  },
  {
   "cell_type": "code",
   "execution_count": null,
   "metadata": {},
   "outputs": [],
   "source": [
    "# Formatierung von Zeichenketten\n",
    "print(f\"{'dez':>4}{'dual':>9}{'oct':>4}{'hex':>4}\")\n",
    "\n",
    "# Formatierung ganzer Zahlen\n",
    "for z in range(59,69):\n",
    "    print(f\"{z:4d}{z:9b}{z:4o}{z:4x}\")\n",
    "print()\n",
    "\n",
    "# Tabelle mit verschiedenen Objekten\n",
    "artname = {23:\"Apfel\", 8:\"Banane\", 42:\"Pfirsich\"}\n",
    "anzahl = {23:1, 8:3, 42:5}\n",
    "epreis = {23:2.95, 8:1.45, 42:3.05}\n",
    "\n",
    "print(f\"{'Nr':>4}{'Name':>12}{'Anz':>4}{'EP':>13}{'GP':>13}\")\n",
    "for x in 23, 8, 42:\n",
    "    print(f\"{x:04d}{artname[x]:>12}{anzahl[x]:4d}\"\n",
    "          f\"{epreis[x]:8.2f} Euro{anzahl[x] * epreis[x]:8.2f} Euro\")\n",
    "\n"
   ]
  }
 ],
 "metadata": {
  "kernelspec": {
   "display_name": "Python 3 (ipykernel)",
   "language": "python",
   "name": "python3"
  },
  "language_info": {
   "codemirror_mode": {
    "name": "ipython",
    "version": 3
   },
   "file_extension": ".py",
   "mimetype": "text/x-python",
   "name": "python",
   "nbconvert_exporter": "python",
   "pygments_lexer": "ipython3",
   "version": "3.8.8"
  }
 },
 "nbformat": 4,
 "nbformat_minor": 2
}
