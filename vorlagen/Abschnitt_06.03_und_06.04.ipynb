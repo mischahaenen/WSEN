{
 "cells": [
  {
   "cell_type": "code",
   "execution_count": 3,
   "metadata": {},
   "outputs": [
    {
     "name": "stdout",
     "output_type": "stream",
     "text": [
      "Objekt Ford Mondeo entfernt\n",
      "Objekt (leer) entfernt\n",
      "Opel Admiral 40 km/h\n",
      "Volvo Amazon 45 km/h\n",
      "Ford Mondeo 0 km/h\n",
      "(leer) 60 km/h\n",
      "Volvo Amazon 65 km/h\n",
      "Objekt Opel Admiral entfernt\n",
      "Objekt Volvo Amazon entfernt\n"
     ]
    }
   ],
   "source": [
    "# Listing 6.3\n",
    "\n",
    "# Definition der Klasse Fahrzeug\n",
    "class Fahrzeug:\n",
    "    # Konstruktormethode\n",
    "    def __init__(self, bez=\"(leer)\", ge=0):\n",
    "        self.bezeichnung = bez\n",
    "        self.geschwindigkeit = ge\n",
    "    # Destruktormethode\n",
    "    def __del__(self):\n",
    "        print(\"Objekt\", self.bezeichnung, \"entfernt\")\n",
    "\n",
    "    def beschleunigen(self, wert):\n",
    "        self.geschwindigkeit += wert\n",
    "        self.ausgabe()\n",
    "    def ausgabe(self):\n",
    "        print(self.bezeichnung, self.geschwindigkeit, \"km/h\")\n",
    "\n",
    "# Objekte der Klasse Fahrzeug erzeugen\n",
    "opel = Fahrzeug(\"Opel Admiral\", 40)\n",
    "volvo = Fahrzeug(\"Volvo Amazon\", 45)\n",
    "ford = Fahrzeug(\"Ford Mondeo\")\n",
    "mercedes = Fahrzeug(ge = 60)\n",
    "\n",
    "# Objekte betrachten\n",
    "opel.ausgabe()\n",
    "volvo.ausgabe()\n",
    "ford.ausgabe()\n",
    "mercedes.ausgabe()\n",
    "\n",
    "# Objektmethode\n",
    "volvo.beschleunigen(20)\n",
    "\n",
    "# Destruktor aufrufen\n",
    "del opel\n",
    "del volvo\n",
    "\n",
    "# Aufruf nicht mehr gestattet\n",
    "# opel.ausgabe()\n"
   ]
  },
  {
   "cell_type": "code",
   "execution_count": null,
   "metadata": {},
   "outputs": [],
   "source": [
    "# Listing 6.4\n",
    "\n",
    "# Definition der Klasse Fahrzeug\n",
    "class Fahrzeug:\n",
    "    def __init__(self, bez, ge):   # Konstruktormethode\n",
    "        self.bezeichnung = bez\n",
    "        self.geschwindigkeit = ge\n",
    "    def __str__(self):                 # Ausgabemethode\n",
    "        return self.bezeichnung + \" \" \\\n",
    "           + str(self.geschwindigkeit) + \" km/h\"\n",
    "    def __repr__(self):                # Info-Methode\n",
    "        return \"Objekt \" + self.bezeichnung \\\n",
    "               + \" der Klasse Fahrzeug\"\n",
    "\n",
    "# Objekte der Klasse Fahrzeug erzeugen\n",
    "opel = Fahrzeug(\"Opel Admiral\", 40)\n",
    "volvo = Fahrzeug(\"Volvo Amazon\", 45)\n",
    "# Objekte ausgeben\n",
    "print(opel)\n",
    "print(volvo)\n",
    "\n",
    "# Informationen zu Objekt\n",
    "print(repr(opel))\n",
    "print(repr(volvo))"
   ]
  }
 ],
 "metadata": {
  "kernelspec": {
   "display_name": "Python 3",
   "language": "python",
   "name": "python3"
  },
  "language_info": {
   "codemirror_mode": {
    "name": "ipython",
    "version": 3
   },
   "file_extension": ".py",
   "mimetype": "text/x-python",
   "name": "python",
   "nbconvert_exporter": "python",
   "pygments_lexer": "ipython3",
   "version": "3.8.5"
  }
 },
 "nbformat": 4,
 "nbformat_minor": 4
}
