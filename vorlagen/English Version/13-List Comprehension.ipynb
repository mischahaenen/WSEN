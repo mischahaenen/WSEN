{
 "cells": [
  {
   "cell_type": "markdown",
   "metadata": {
    "collapsed": true
   },
   "source": [
    "# Theis, Listing 5.17"
   ]
  },
  {
   "cell_type": "code",
   "execution_count": null,
   "metadata": {},
   "outputs": [],
   "source": [
    "# Zwei Beispiellisten\n",
    "xliste = [3, 6, 8, 9, 15]\n",
    "print(xliste)\n",
    "yliste = [2, 13, 4, 8, 4]\n",
    "print(yliste)\n",
    "print()\n",
    "\n",
    "# Beispiel 1: Version ohne List Comprehension\n",
    "aliste = []\n",
    "for item in xliste:\n",
    "    aliste.append(item+1)\n",
    "print(aliste)\n",
    "\n",
    "# Beispiel 1: Version mit List Comprehension\n",
    "aliste = [item + 1 for item in xliste]\n",
    "print(aliste)\n",
    "print()\n",
    "\n",
    "# Beispiel 2: Version ohne List Comprehension\n",
    "bliste = []\n",
    "for item in xliste:\n",
    "    if item > 7:\n",
    "        bliste.append(item + 1)\n",
    "print(bliste)\n",
    "\n",
    "# Beispiel 2: Version mit List Comprehension\n",
    "bliste = [item + 1 for item in xliste if item > 7]\n",
    "print(bliste)\n",
    "print()\n",
    "\n",
    "# Beispiel 3: Version ohne List Comprehension\n",
    "cliste = []\n",
    "for i in range(len(xliste)):\n",
    "    if xliste[i] < 10 and yliste[i] < 10:\n",
    "        cliste.append(xliste[i]*10 + yliste[i])\n",
    "print(cliste)\n",
    "\n",
    "# Beispiel 3: Version mit List Comprehension\n",
    "cliste = [xliste[i]*10 + yliste[i]\n",
    "          for i in range(len(xliste))\n",
    "          if xliste[i] < 10 and yliste[i] < 10]\n",
    "print(cliste)"
   ]
  }
 ],
 "metadata": {
  "kernelspec": {
   "display_name": "Python 3 (ipykernel)",
   "language": "python",
   "name": "python3"
  },
  "language_info": {
   "codemirror_mode": {
    "name": "ipython",
    "version": 3
   },
   "file_extension": ".py",
   "mimetype": "text/x-python",
   "name": "python",
   "nbconvert_exporter": "python",
   "pygments_lexer": "ipython3",
   "version": "3.8.8"
  }
 },
 "nbformat": 4,
 "nbformat_minor": 2
}
