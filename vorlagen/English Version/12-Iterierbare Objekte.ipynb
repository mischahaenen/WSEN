{
 "cells": [
  {
   "cell_type": "markdown",
   "metadata": {
    "collapsed": true
   },
   "source": [
    "# Theis, Listing 5.14"
   ]
  },
  {
   "cell_type": "code",
   "execution_count": null,
   "metadata": {},
   "outputs": [],
   "source": [
    "# Mehrere iterierbare Objekte\n",
    "plz = [49808, 78224, 55411]\n",
    "stadt = [\"Lingen\", \"Singen\", \"Bingen\"]\n",
    "bundesland = [\"NS\", \"BW\", \"RP\"]\n",
    "\n",
    "# Verbinden\n",
    "kombi = zip(plz, stadt, bundesland)\n",
    "\n",
    "# Ausgabe\n",
    "for element in kombi:\n",
    "    print(element)"
   ]
  },
  {
   "cell_type": "markdown",
   "metadata": {},
   "source": [
    "# Theis, Listing 5.15"
   ]
  },
  {
   "cell_type": "code",
   "execution_count": null,
   "metadata": {},
   "outputs": [],
   "source": [
    "# Funktion mit einem Parameter\n",
    "def quad(x):\n",
    "    erg = x * x\n",
    "    return erg\n",
    "\n",
    "# Funktion mit mehr als einem Parameter\n",
    "def summe(a,b,c):\n",
    "    erg = a + b + c\n",
    "    return erg\n",
    "\n",
    "# Funktion mit einem Parameter mehrmals aufrufen\n",
    "z = map(quad, [4, 2.5, -1.5])\n",
    "\n",
    "# Jedes Ergebnis ausgeben\n",
    "print(\"Quadrat:\")\n",
    "for element in z:\n",
    "    print(element)\n",
    "print()\n",
    "\n",
    "# Funktion mit mehr als einem Parameter mehrmals aufrufen\n",
    "z = map(summe, [3, 1.2, 2], [4.8, 2], [5, 0.1, 9])\n",
    "\n",
    "# Jedes Ergebnis ausgeben\n",
    "print(\"Summe:\")\n",
    "for element in z:\n",
    "    print(element)"
   ]
  },
  {
   "cell_type": "markdown",
   "metadata": {},
   "source": [
    "# Theis, Listing 5.16"
   ]
  },
  {
   "cell_type": "code",
   "execution_count": null,
   "metadata": {},
   "outputs": [],
   "source": [
    "# Funktion, die True oder False liefert\n",
    "def test(a):\n",
    "    if a>3:\n",
    "        return True\n",
    "    else:\n",
    "        return False\n",
    "\n",
    "# Funktion mehrmals aufrufen\n",
    "z = filter(test, [5, 6, -2, 0, 12, 3, -5])\n",
    "\n",
    "# Ausgabe der Werte, die True ergeben\n",
    "for element in z:\n",
    "    print(\"True:\", element)"
   ]
  }
 ],
 "metadata": {
  "kernelspec": {
   "display_name": "Python 3 (ipykernel)",
   "language": "python",
   "name": "python3"
  },
  "language_info": {
   "codemirror_mode": {
    "name": "ipython",
    "version": 3
   },
   "file_extension": ".py",
   "mimetype": "text/x-python",
   "name": "python",
   "nbconvert_exporter": "python",
   "pygments_lexer": "ipython3",
   "version": "3.8.8"
  }
 },
 "nbformat": 4,
 "nbformat_minor": 2
}
