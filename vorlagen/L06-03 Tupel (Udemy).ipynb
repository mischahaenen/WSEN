{
 "cells": [
  {
   "cell_type": "markdown",
   "metadata": {},
   "source": [
    "<a href=\"http://datamics.com/de/courses/\"><img src=../DATA/bg_datamics_top.png></a><em text-align:center>© Datamics</em>"
   ]
  },
  {
   "cell_type": "markdown",
   "metadata": {
    "collapsed": true
   },
   "source": [
    "# Tupel\n",
    "\n",
    "In Python sind Tupel sehr ähnlich zu Listen. Im Gegensatz zu Listen sind sie aber nicht änderbar. Das bedeutet, dass weder Werte hinzugefügt, noch gelöscht werden können. Deshalb verwendet man Tupel immer dann, wenn etwas nicht geändert werden soll. Beispiele sind Wochentage oder das Datum eines Kalenders.\n",
    "\n",
    "Die Vorteile von Tupeln gegenüber Listen zusammengefasst:\n",
    "*  Tupel sind performanter als Listen.\n",
    "* Wenn bekannt ist, dass Daten nicht geändert werden müssen, sollten Tupel verwendet werden, um ungewollte Änderungen zu vermeiden.\n",
    "* Tupel können als Schlüssel in Dictionaries verwendet werden können, da Schlüssel nur Objekte von unveränderlichen Datentypen sein können. Listen können also nicht verwendet werden. \n",
    "\n",
    "In dieser Lektion werden wir einen Überblick über folgendes erhalten:\n",
    "\n",
    "1. Tupel erstellen\n",
    "2. Grundlegende Tupel Methoden\n",
    "3. Unveränderlichkeit\n",
    "4. Wann man Tupel verwendet\n",
    "\n",
    "Für die Verwendung von Tupeln haben wir schon ein Gefühl, da wir Listen kennen. Sie werden sehr ähnlich behandelt abgesehen von ihrer Unveränderlichkeit.\n",
    "\n",
    "## Tupel erstellen\n",
    "\n",
    "Zur Erstellung von Tupeln werden () verwendet und Elemente durch Komma getrennt. Wie zum Beispiel hier:"
   ]
  },
  {
   "cell_type": "code",
   "execution_count": null,
   "metadata": {},
   "outputs": [],
   "source": [
    "# Ein Tupel erstellen\n",
    "t = (1,2,3)"
   ]
  },
  {
   "cell_type": "code",
   "execution_count": null,
   "metadata": {},
   "outputs": [],
   "source": [
    "# Die Länge wird wie bei Listen gemessen\n",
    "len(t)"
   ]
  },
  {
   "cell_type": "code",
   "execution_count": null,
   "metadata": {},
   "outputs": [],
   "source": [
    "# Außerdem können die Arten von Objekten gemixt werden\n",
    "t = ('Eins',2)\n",
    "\n",
    "# Check\n",
    "t"
   ]
  },
  {
   "cell_type": "code",
   "execution_count": null,
   "metadata": {},
   "outputs": [],
   "source": [
    "# Auch Indexierung funktioniert wie bei Listen\n",
    "t[0]"
   ]
  },
  {
   "cell_type": "code",
   "execution_count": null,
   "metadata": {},
   "outputs": [],
   "source": [
    "# Und auch die Teilung funktioniert gleich\n",
    "t[-1]"
   ]
  },
  {
   "cell_type": "markdown",
   "metadata": {},
   "source": [
    "## Grundlegende Tupel Methoden\n",
    "\n",
    "Tupel haben vordefinierte Methoden, allerdings weniger als Listen. Hier sind zwei davon:"
   ]
  },
  {
   "cell_type": "code",
   "execution_count": null,
   "metadata": {},
   "outputs": [],
   "source": [
    "# Nutzt .index(), um einen Wert einzugeben und dessen Index zu erhalten\n",
    "t.index('Eins')"
   ]
  },
  {
   "cell_type": "code",
   "execution_count": null,
   "metadata": {},
   "outputs": [],
   "source": [
    "# Nutzt .count(), um die Anzahl des Vorkommens eines Wertes zu ermitteln\n",
    "t.count(2)"
   ]
  },
  {
   "cell_type": "markdown",
   "metadata": {},
   "source": [
    "## Unveränderlichkeit\n",
    "\n",
    "Es kann nicht oft genug betont werden, das Tupel unveränderlich sind. Um das ein für alle mal klar zu stellen:"
   ]
  },
  {
   "cell_type": "code",
   "execution_count": null,
   "metadata": {},
   "outputs": [],
   "source": [
    "t[0] = 'Neuer Wert'"
   ]
  },
  {
   "cell_type": "code",
   "execution_count": null,
   "metadata": {},
   "outputs": [],
   "source": [
    "t.append('Anhang')"
   ]
  },
  {
   "cell_type": "markdown",
   "metadata": {},
   "source": [
    "## Wann werden Tupel verwendet?\n",
    "\n",
    "Falls ihr euch fragt: \"Warum überhaupt mit Tupeln auseinandersetzen, wenn sie weniger Methoden zur Verfügung stellen?\" Und um ehrlich zu sein: Tupel werden weniger häufig verwendet als Listen. Aber immer dann, wenn Unveränderlichkeit notwendig ist, können sie punkten. Wenn in einem eurer Programme ein Objekt verarbeitet werden soll, dass nicht geändert werden darf, dann sind Tupel die richtige Lösung. Es bietet eine gute Quelle für Datenintegrität.\n",
    "\n",
    "Ihr solltet nun also in der Lage sein Tupel zu erstellen und zu nutzen, sowie das Konzept der Unveränderlichkeit verstanden haben.\n",
    "\n",
    "Als nächstes: Dateien!"
   ]
  }
 ],
 "metadata": {
  "kernelspec": {
   "display_name": "Python 3",
   "language": "python",
   "name": "python3"
  },
  "language_info": {
   "codemirror_mode": {
    "name": "ipython",
    "version": 3
   },
   "file_extension": ".py",
   "mimetype": "text/x-python",
   "name": "python",
   "nbconvert_exporter": "python",
   "pygments_lexer": "ipython3",
   "version": "3.8.3"
  }
 },
 "nbformat": 4,
 "nbformat_minor": 2
}
