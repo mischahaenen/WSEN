{
 "cells": [
  {
   "cell_type": "code",
   "execution_count": 6,
   "metadata": {},
   "outputs": [
    {
     "name": "stdout",
     "output_type": "stream",
     "text": [
      "****-0000--0000--0000-****\n",
      "-00\n",
      "00-\n",
      "7\n",
      "12\n",
      "12\n",
      "Das ist ein Beispiel\n"
     ]
    }
   ],
   "source": [
    "t3 = '-0000-'\n",
    "t4 = '****'\n",
    "print(t4 + t3 * 3 + t4)\n",
    "print(t3[:3])\n",
    "print(t3[3:])\n",
    "test = \"Da ist ein Beispiel\"\n",
    "such = \"ei\"\n",
    "#Suche erste position\n",
    "print(test.find(such))\n",
    "# Suche position ab index\n",
    "print(test.find(such, 8))\n",
    "# Suche letzte position\n",
    "print(test.rfind(such))\n",
    "# String replacement\n",
    "print(test.replace(\"Da\", \"Das\"))"
   ]
  },
  {
   "cell_type": "code",
   "execution_count": null,
   "metadata": {},
   "outputs": [],
   "source": []
  },
  {
   "cell_type": "code",
   "execution_count": 7,
   "metadata": {},
   "outputs": [],
   "source": []
  },
  {
   "cell_type": "code",
   "execution_count": 8,
   "metadata": {},
   "outputs": [
    {
     "name": "stdout",
     "output_type": "stream",
     "text": [
      "not found\n"
     ]
    }
   ],
   "source": [
    "if test.find(\"Das\") > 0:\n",
    "    print(\"Success\")\n",
    "else:\n",
    "    print(\"not found\")"
   ]
  },
  {
   "cell_type": "code",
   "execution_count": 9,
   "metadata": {},
   "outputs": [
    {
     "name": "stdout",
     "output_type": "stream",
     "text": [
      "Paris hat 35000 Einwohner\n",
      "Rom hat 42000 Einwohner\n",
      "['Rom', 'It', 42000, 'Paris', 'Fr', 35000, 'Paris', 'Fr', 35000]\n",
      "['Land', 'Paris', 'Fr', 35000]\n"
     ]
    }
   ],
   "source": [
    "rom = [\"Rom\", \"It\", 42000]\n",
    "paris = [\"Paris\", \"Fr\", 35000]\n",
    "liste = [paris, rom]\n",
    "for item in liste:\n",
    "    print(item[0], \"hat\", item[2], \"Einwohner\")\n",
    "print(rom + paris * 2)\n",
    "paris.insert(0, 'Land')\n",
    "print(paris)"
   ]
  },
  {
   "cell_type": "code",
   "execution_count": null,
   "metadata": {},
   "outputs": [],
   "source": []
  },
  {
   "cell_type": "code",
   "execution_count": 10,
   "metadata": {},
   "outputs": [
    {
     "name": "stdout",
     "output_type": "stream",
     "text": [
      "[2, 3, 4, 5, 6]\n"
     ]
    }
   ],
   "source": [
    "x, *y, z = 1,2,3,4,5,6,7\n",
    "print(y)"
   ]
  },
  {
   "cell_type": "code",
   "execution_count": 11,
   "metadata": {},
   "outputs": [],
   "source": [
    "tuple_list =[(\"Paris\",\"Fr\",350000),[\"Rom\",\"It\",420000]]\n",
    "my_list = list(tuple_list[0])\n",
    "my_list[0] = \"marseille\"\n",
    "x = tuple(my_list)\n",
    "print(x)"
   ]
  },
  {
   "cell_type": "code",
   "execution_count": null,
   "metadata": {},
   "outputs": [],
   "source": [
    "alter1 ={\"Anna\":41, \"Marta\":31,\"Hans\":21}\n",
    "alter2 ={\"Anna\":41, \"Hans\":21, \"Marta\":31, \"Anna\": 12}\n",
    "if alter1 == alter2:\n",
    "    print('gleich')\n",
    "else:\n",
    "    print('nicht gleich')\n",
    "\n"
   ]
  },
  {
   "cell_type": "code",
   "execution_count": 1,
   "metadata": {},
   "outputs": [
    {
     "name": "stdout",
     "output_type": "stream",
     "text": [
      "True\n",
      "True\n",
      "{(3, 9), (2, 6), (2, 1), (4, 12), (6, 3), (1, 3), (4, 2)}\n"
     ]
    }
   ],
   "source": [
    "set1 = set([1,1,2,2,3,3,4,4])\n",
    "set2 = set([1,2,3,4,5])\n",
    "set3 = set([])\n",
    "print(set1 < set2)\n",
    "print(set3 <= set1)\n",
    "\n",
    "\n",
    "r = set([(1,3),(2,6),(3,9),(4,12)])\n",
    "s = set([(2,1),(4,2),(6,3)])\n",
    "print(r.union(s))"
   ]
  }
 ],
 "metadata": {
  "interpreter": {
   "hash": "941b10ec9e005cfe76c369ab664eba551130d21882d889bdf3a531e2cb6af61f"
  },
  "kernelspec": {
   "display_name": "Python 3.8.8 64-bit ('base': conda)",
   "name": "python3"
  },
  "language_info": {
   "codemirror_mode": {
    "name": "ipython",
    "version": 3
   },
   "file_extension": ".py",
   "mimetype": "text/x-python",
   "name": "python",
   "nbconvert_exporter": "python",
   "pygments_lexer": "ipython3",
   "version": "3.8.8"
  },
  "orig_nbformat": 4
 },
 "nbformat": 4,
 "nbformat_minor": 2
}
