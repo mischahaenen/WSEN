{
 "cells": [
  {
   "cell_type": "code",
   "execution_count": 1,
   "metadata": {},
   "outputs": [
    {
     "name": "stdout",
     "output_type": "stream",
     "text": [
      "richtig\n"
     ]
    }
   ],
   "source": [
    "eingabe = input(\"Chasch programmiere? \")\n",
    "if eingabe == \"ja\" or eingabe == \"Ja\":\n",
    "    print(\"richtig\")"
   ]
  },
  {
   "cell_type": "code",
   "execution_count": 2,
   "metadata": {},
   "outputs": [
    {
     "name": "stdout",
     "output_type": "stream",
     "text": [
      "Die Summe von a & b ist:  30\n"
     ]
    }
   ],
   "source": [
    "a, b = 15, 15\n",
    "print(\"Die Summe von a & b ist: \", a + b)"
   ]
  },
  {
   "cell_type": "code",
   "execution_count": 3,
   "metadata": {},
   "outputs": [
    {
     "name": "stdout",
     "output_type": "stream",
     "text": [
      "True False\n",
      "False True\n"
     ]
    }
   ],
   "source": [
    "for p in (True, False):\n",
    "    print(p, not p)"
   ]
  },
  {
   "cell_type": "code",
   "execution_count": 4,
   "metadata": {},
   "outputs": [
    {
     "name": "stdout",
     "output_type": "stream",
     "text": [
      "True True True\n",
      "True False False\n",
      "False True False\n",
      "False False False\n"
     ]
    }
   ],
   "source": [
    "for p in (True, False):\n",
    "    for q in (True, False):\n",
    "        print(p,q, p and q)"
   ]
  },
  {
   "cell_type": "code",
   "execution_count": 5,
   "metadata": {},
   "outputs": [
    {
     "name": "stdout",
     "output_type": "stream",
     "text": [
      "True True True\n",
      "True False True\n",
      "False True True\n",
      "False False False\n"
     ]
    }
   ],
   "source": [
    "for p in (True, False):\n",
    "    for q in (True, False):\n",
    "        print(p,q, p or q)"
   ]
  },
  {
   "cell_type": "code",
   "execution_count": 6,
   "metadata": {},
   "outputs": [
    {
     "name": "stdout",
     "output_type": "stream",
     "text": [
      "1\n",
      "2\n",
      "3\n",
      "4\n",
      "5\n",
      "6\n"
     ]
    }
   ],
   "source": [
    "for number in (1,2,3,4,5, 6):\n",
    "    print(number)"
   ]
  },
  {
   "cell_type": "code",
   "execution_count": 7,
   "metadata": {},
   "outputs": [
    {
     "name": "stdout",
     "output_type": "stream",
     "text": [
      "True True True True\n",
      "True True False False\n",
      "True False True True\n",
      "True False False False\n",
      "False True True False\n",
      "False True False False\n",
      "False False True False\n",
      "False False False False\n"
     ]
    }
   ],
   "source": [
    "for p in (True, False):\n",
    "    for q in (True, False):\n",
    "        for r in (True, False):\n",
    "            print(p, q, r, (p and (not q or r)) and (not (not r and p)) )"
   ]
  },
  {
   "cell_type": "code",
   "execution_count": 8,
   "metadata": {},
   "outputs": [
    {
     "name": "stdout",
     "output_type": "stream",
     "text": [
      "2\n",
      "2.5\n",
      "hello  mischa\n"
     ]
    },
    {
     "data": {
      "text/plain": [
       "'\\n Multiline\\n comment\\n'"
      ]
     },
     "execution_count": 8,
     "metadata": {},
     "output_type": "execute_result"
    }
   ],
   "source": [
    "# Types\n",
    "x = 5/2\n",
    "print(int(x))\n",
    "print(float(x))\n",
    "\n",
    "# Methods\n",
    "def hello(name):\n",
    "    print('hello ', name);\n",
    "\n",
    "hello('mischa')\n",
    "\n",
    "# Comments\n",
    "# One Line Comment\n",
    "\"\"\"\n",
    " Multiline\n",
    " comment\n",
    "\"\"\"\n",
    "\n",
    "# Naming conventions\n",
    "# joined_lower for all functions, methods and attributes\n",
    "# joined_lower or ALL_CAPS for instances\n",
    "# StudlyCaps for classes\n",
    "# Attributes: interface, _internal, _private"
   ]
  },
  {
   "cell_type": "code",
   "execution_count": 10,
   "metadata": {},
   "outputs": [
    {
     "name": "stdout",
     "output_type": "stream",
     "text": [
      "True True True True\n",
      "True True False True\n",
      "True False True True\n",
      "True False False True\n",
      "False True True False\n",
      "False True False True\n",
      "False False True True\n",
      "False False False True\n"
     ]
    }
   ],
   "source": [
    "# aufgabe 3\n",
    "for p in (True, False):\n",
    "    for q in (True, False):\n",
    "        for r in (True, False):\n",
    "            print(p, q, r, ((p or not q) and r) or not r)\n",
    "     "
   ]
  },
  {
   "cell_type": "code",
   "execution_count": 28,
   "metadata": {},
   "outputs": [
    {
     "name": "stdout",
     "output_type": "stream",
     "text": [
      "correct\n",
      "correct\n",
      "correct\n",
      "correct\n",
      "a False True True True\n",
      "correct\n",
      "a False False True True\n",
      "correct\n"
     ]
    }
   ],
   "source": [
    "for p in (True, False):\n",
    "    for q in (True, False):\n",
    "        for r in (True, False):\n",
    "            calc = (p and (q or r)) != ((p and q) or r)\n",
    "            if calc:\n",
    "                print('a', p, q, r, calc)\n",
    "            else:\n",
    "                print('correct')"
   ]
  },
  {
   "cell_type": "code",
   "execution_count": 20,
   "metadata": {},
   "outputs": [
    {
     "data": {
      "text/plain": [
       "True"
      ]
     },
     "execution_count": 20,
     "metadata": {},
     "output_type": "execute_result"
    }
   ],
   "source": [
    "False == False"
   ]
  }
 ],
 "metadata": {
  "interpreter": {
   "hash": "941b10ec9e005cfe76c369ab664eba551130d21882d889bdf3a531e2cb6af61f"
  },
  "kernelspec": {
   "display_name": "Python 3.8.8 64-bit ('base': conda)",
   "name": "python3"
  },
  "language_info": {
   "codemirror_mode": {
    "name": "ipython",
    "version": 3
   },
   "file_extension": ".py",
   "mimetype": "text/x-python",
   "name": "python",
   "nbconvert_exporter": "python",
   "pygments_lexer": "ipython3",
   "version": "3.8.8"
  }
 },
 "nbformat": 4,
 "nbformat_minor": 5
}
