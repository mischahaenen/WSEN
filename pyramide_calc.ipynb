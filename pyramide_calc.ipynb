{
 "cells": [
  {
   "cell_type": "code",
   "execution_count": 3,
   "source": [
    "layer_0 = [0, 1, 2, 3, 4, 5, 6]\n",
    "layer_1 = [7, 8, 9]\n",
    "layer_2 = [10]\n",
    "available_colors = [];\n",
    "\n",
    "\n",
    "# fills available colors\n",
    "def generate_colors(colors):\n",
    "    for color in colors:\n",
    "        for count in range(0, 3):\n",
    "            available_colors.append(color);\n",
    "            \n",
    "generate_colors(['blau', 'grün', 'schwarz'])\n",
    "print(available_colors)\n",
    "\n",
    "# available rules\n",
    "\n",
    "def touches(color1, color2):\n",
    "    print(color1)"
   ],
   "outputs": [
    {
     "output_type": "stream",
     "name": "stdout",
     "text": [
      "['blau', 'blau', 'blau', 'grün', 'grün', 'grün', 'schwarz', 'schwarz', 'schwarz']\n"
     ]
    }
   ],
   "metadata": {}
  }
 ],
 "metadata": {
  "orig_nbformat": 4,
  "language_info": {
   "name": "python",
   "version": "3.8.8",
   "mimetype": "text/x-python",
   "codemirror_mode": {
    "name": "ipython",
    "version": 3
   },
   "pygments_lexer": "ipython3",
   "nbconvert_exporter": "python",
   "file_extension": ".py"
  },
  "kernelspec": {
   "name": "python3",
   "display_name": "Python 3.8.8 64-bit ('base': conda)"
  },
  "interpreter": {
   "hash": "68b8d5ab36ac7ba607ecfcff211169f8e0794ded21683002f26a0b22dbef498b"
  }
 },
 "nbformat": 4,
 "nbformat_minor": 2
}