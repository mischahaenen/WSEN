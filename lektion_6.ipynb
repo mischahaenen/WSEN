{
 "cells": [
  {
   "cell_type": "code",
   "execution_count": 5,
   "metadata": {},
   "outputs": [
    {
     "name": "stdout",
     "output_type": "stream",
     "text": [
      "9\n",
      "woof!\n",
      "Miles is 4 years old\n"
     ]
    }
   ],
   "source": [
    "class Dog:\n",
    "    # Class attribute\n",
    "    species = \"Canis familiaris\"\n",
    "    def __init__(self, name, age):\n",
    "        #Instance attributes\n",
    "        self.name = name\n",
    "        self.age = age\n",
    "        \n",
    "    def __str__(self) -> str:\n",
    "        return f'{self.name} is {self.age} years old'\n",
    "        \n",
    "    def bark(self) -> str:\n",
    "        return 'woof!'\n",
    "    \n",
    "    def description(self) -> str:\n",
    "        return f'{self.name} is {self.age} years old'\n",
    "\n",
    "       \n",
    "buddy = Dog(\"Buddy\", 9)\n",
    "miles = Dog(\"Miles\", 4)\n",
    "\n",
    "\n",
    "print(buddy.age)\n",
    "print(miles.bark())\n",
    "print(miles)"
   ]
  },
  {
   "cell_type": "code",
   "execution_count": 6,
   "metadata": {},
   "outputs": [
    {
     "name": "stdout",
     "output_type": "stream",
     "text": [
      "The red car has 20,000 miles.\n",
      "The blue car has 30,000 miles.\n",
      "True\n",
      "True\n",
      "-10000\n"
     ]
    }
   ],
   "source": [
    "class Car:\n",
    "    def __init__(self, color='pink', mileage=1, name='Car', speed=1):\n",
    "        self.color = color\n",
    "        self.mileage = mileage\n",
    "        self.name = name\n",
    "        self.speed = speed\n",
    "    def __str__(self) -> str:\n",
    "        return f'The {self.name} drives at {self.speed} km/h'\n",
    "    \n",
    "    def __eq__(self, __o: object) -> bool: return  self.name == __o.name\n",
    "    def __gt__(self, __o: object) -> bool: return self.mileage > __o.mileage\n",
    "    def __sub__(self, __o: object) -> int: return self.mileage - __o.mileage\n",
    "    def __ge__(self, __o :object) -> bool: return self.mileage >= __o.mileage\n",
    "    def __lt__(self, __o: object) -> bool: return self.mileage < __o.mileage\n",
    "    def __le__(self, __o: object) -> bool: return self.mileage <= __o.mileage\n",
    "    def __ne__(self, __o: object) -> bool: return self.mileage != __o.mileage\n",
    "    \n",
    "    def accelerate(self, newSpeed):\n",
    "        self.speed += newSpeed\n",
    "# Custom non reference copmaring   \n",
    "red = Car('red', 20000)\n",
    "blue = Car('blue', 30000)\n",
    "print(red)\n",
    "print(blue)\n",
    "print(red == blue)\n",
    "print(red < blue)\n",
    "print(red - blue)\n",
    "\n",
    "# copy vs deepcopy\n",
    "import copy\n",
    "original = Car(name='A3', speed=100)\n",
    "copy1 = copy.copy(original)\n",
    "copy1.accelerate(11)\n",
    "deepCopy1 = copy.deepcopy(original)\n",
    "deepCopy1.name = 'A1'\n",
    "original1 = original\n",
    "original.accelerate(15)\n",
    "\n",
    "print(original)\n",
    "print(copy1)\n",
    "print(deepCopy1)\n",
    "print(original1)\n",
    "print(original is original1)\n",
    "print(original is copy1)\n",
    "print(original is deepCopy1)\n"
   ]
  },
  {
   "cell_type": "code",
   "execution_count": 7,
   "metadata": {},
   "outputs": [
    {
     "name": "stdout",
     "output_type": "stream",
     "text": [
      "[1, 2, 3, [1, 2, 3], 5]\n",
      "The pink car has 1 miles.\n"
     ]
    }
   ],
   "source": [
    "# Vererbung\n",
    "class Robot:\n",
    "    def __init__(self, name):\n",
    "        self.name = name\n",
    "        \n",
    "    def say_hi(self):\n",
    "        print(\"Hi, Ich bin \" + self.name)\n",
    "        \n",
    "class PhysicianRobot(Robot):\n",
    "    def __init__(self, name, strength):\n",
    "        Robot.__init__(self, name)\n",
    "        self.strength = strength\n",
    "\n",
    "x = Robot(\"Marvin\")\n",
    "y = PhysicianRobot(\"James\", 'Strong')\n",
    "print(x, type(x))\n",
    "print(y, type(y))\n",
    "print(y.name)\n",
    "y.say_hi()"
   ]
  },
  {
   "cell_type": "code",
   "execution_count": null,
   "metadata": {},
   "outputs": [],
   "source": [
    "# With polimorphism you can inherit methods and propertys from super class, but you can adjust them if you want. See dog\n",
    "class Animal():\n",
    "    def __init__(self, name):\n",
    "        self.name = name\n",
    "    def __str__(self): return 'This is an animal'\n",
    "    def canBreathe(self):\n",
    "        return True;\n",
    "    def speak(self):\n",
    "        return 'Animals can make different noises'    \n",
    "    \n",
    "class Dog(Animal):\n",
    "    def __init__(self, name):\n",
    "        Animal.__init__(self, name)\n",
    "    def __str__(self): return super().__str__()\n",
    "    def speak(self):\n",
    "        return f'{self.name} says Woof!'\n",
    "\n",
    "class Cat(Animal):\n",
    "    def __init__(self, name):\n",
    "        super().__init__(name)\n",
    "    def speak(self):\n",
    "        return super().speak()\n",
    "\n",
    "cat = Cat('max')\n",
    "dog = Dog('Maxi')\n",
    "print(cat.speak())\n",
    "print(cat.canBreathe())\n",
    "print(dog.speak())\n",
    "print(dog)\n"
   ]
  },
  {
   "cell_type": "code",
   "execution_count": null,
   "metadata": {},
   "outputs": [],
   "source": [
    "''' \n",
    "Dataclasses are python classes but are suited for storing data objects.\n",
    "This module provides a decorator and functions for automatically adding generated special methods\n",
    "such as __init__() and __repr__() to user-defined classes.\n",
    "'''\n",
    "from dataclasses import dataclass\n",
    "@dataclass\n",
    "class Product:\n",
    "    name: str\n",
    "    count: int = 0\n",
    "    price: float = 0.0\n",
    "    \n",
    "    def betrag(self): return self.count * self.price\n",
    "''' \n",
    "Features\n",
    "1.  They store data and represent a certain data type.\n",
    "    Ex: A number. For people familiar with ORMs, a model instance is a data object. It represents a specific kind of entity.\n",
    "2.  It holds attributes that define or represent the entity. They can be compared to other objects of the same type.\n",
    "    Ex: A number can be greater than, less than, or equal to another number.\n",
    "'''\n",
    "product = Product('Python', 1, 2)\n",
    "product2 = Product('Python', 1, 2)\n",
    "print(product.count)\n",
    "print(product == product2)\n",
    "print(product.betrag())"
   ]
  },
  {
   "cell_type": "code",
   "execution_count": null,
   "metadata": {},
   "outputs": [],
   "source": [
    "from enum import IntEnum\n",
    "\n",
    "class author(IntEnum):\n",
    "    VALUE1 = 1\n",
    "    VALUE2 = 2\n",
    "    VALUE3 = 3\n",
    "\n",
    "print(author.VALUE1 == 1)"
   ]
  }
 ],
 "metadata": {
  "interpreter": {
   "hash": "31f2aee4e71d21fbe5cf8b01ff0e069b9275f58929596ceb00d14d90e3e16cd6"
  },
  "kernelspec": {
   "display_name": "Python 3.8.9 64-bit",
   "language": "python",
   "name": "python3"
  },
  "language_info": {
   "codemirror_mode": {
    "name": "ipython",
    "version": 3
   },
   "file_extension": ".py",
   "mimetype": "text/x-python",
   "name": "python",
   "nbconvert_exporter": "python",
   "pygments_lexer": "ipython3",
   "version": "3.8.9"
  },
  "orig_nbformat": 4
 },
 "nbformat": 4,
 "nbformat_minor": 2
}
